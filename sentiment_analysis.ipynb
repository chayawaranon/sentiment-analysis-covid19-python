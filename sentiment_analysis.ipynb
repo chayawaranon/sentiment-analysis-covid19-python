{
  "nbformat": 4,
  "nbformat_minor": 0,
  "metadata": {
    "accelerator": "GPU",
    "colab": {
      "name": "sentiment-analysis.ipynb",
      "provenance": [],
      "collapsed_sections": [],
      "machine_shape": "hm"
    },
    "kernelspec": {
      "display_name": "Python 3",
      "language": "python",
      "name": "python3"
    },
    "language_info": {
      "codemirror_mode": {
        "name": "ipython",
        "version": 3
      },
      "file_extension": ".py",
      "mimetype": "text/x-python",
      "name": "python",
      "nbconvert_exporter": "python",
      "pygments_lexer": "ipython3",
      "version": "3.8.3"
    }
  },
  "cells": [
    {
      "cell_type": "markdown",
      "metadata": {
        "id": "mOGzSgW3IZtc"
      },
      "source": [
        "## Load Data"
      ]
    },
    {
      "cell_type": "code",
      "metadata": {
        "id": "XZh9cIXswCjn"
      },
      "source": [
        "import pandas as pd\n",
        "import numpy as np\n",
        "import regex as re\n",
        "import matplotlib.pyplot as plt\n",
        "from sklearn.metrics import classification_report"
      ],
      "execution_count": null,
      "outputs": []
    },
    {
      "cell_type": "code",
      "metadata": {
        "colab": {
          "base_uri": "https://localhost:8080/"
        },
        "id": "xHmzCoM2wCjq",
        "outputId": "5b041597-cfb8-4bdc-cee8-a64452ec74b9"
      },
      "source": [
        "train_df = pd.read_csv('./Corona_NLP_train.csv', encoding= 'latin1')\n",
        "test_df = pd.read_csv('./Corona_NLP_test.csv', encoding= 'latin1')\n",
        "print('Train shape ', train_df.shape)\n",
        "print('Test shape ', test_df.shape)"
      ],
      "execution_count": null,
      "outputs": [
        {
          "output_type": "stream",
          "name": "stdout",
          "text": [
            "Train shape  (41157, 6)\n",
            "Test shape  (3798, 6)\n"
          ]
        }
      ]
    },
    {
      "cell_type": "markdown",
      "metadata": {
        "id": "pSvxWkA_Id3D"
      },
      "source": [
        "## Explore Data"
      ]
    },
    {
      "cell_type": "code",
      "metadata": {
        "colab": {
          "base_uri": "https://localhost:8080/",
          "height": 206
        },
        "id": "0xnLK12UwCjs",
        "outputId": "fefe5518-bc47-4ace-fd61-1522f2f8dc26"
      },
      "source": [
        "train_df.head()"
      ],
      "execution_count": null,
      "outputs": [
        {
          "output_type": "execute_result",
          "data": {
            "text/html": [
              "<div>\n",
              "<style scoped>\n",
              "    .dataframe tbody tr th:only-of-type {\n",
              "        vertical-align: middle;\n",
              "    }\n",
              "\n",
              "    .dataframe tbody tr th {\n",
              "        vertical-align: top;\n",
              "    }\n",
              "\n",
              "    .dataframe thead th {\n",
              "        text-align: right;\n",
              "    }\n",
              "</style>\n",
              "<table border=\"1\" class=\"dataframe\">\n",
              "  <thead>\n",
              "    <tr style=\"text-align: right;\">\n",
              "      <th></th>\n",
              "      <th>UserName</th>\n",
              "      <th>ScreenName</th>\n",
              "      <th>Location</th>\n",
              "      <th>TweetAt</th>\n",
              "      <th>OriginalTweet</th>\n",
              "      <th>Sentiment</th>\n",
              "    </tr>\n",
              "  </thead>\n",
              "  <tbody>\n",
              "    <tr>\n",
              "      <th>0</th>\n",
              "      <td>3799</td>\n",
              "      <td>48751</td>\n",
              "      <td>London</td>\n",
              "      <td>16-03-2020</td>\n",
              "      <td>@MeNyrbie @Phil_Gahan @Chrisitv https://t.co/i...</td>\n",
              "      <td>Neutral</td>\n",
              "    </tr>\n",
              "    <tr>\n",
              "      <th>1</th>\n",
              "      <td>3800</td>\n",
              "      <td>48752</td>\n",
              "      <td>UK</td>\n",
              "      <td>16-03-2020</td>\n",
              "      <td>advice Talk to your neighbours family to excha...</td>\n",
              "      <td>Positive</td>\n",
              "    </tr>\n",
              "    <tr>\n",
              "      <th>2</th>\n",
              "      <td>3801</td>\n",
              "      <td>48753</td>\n",
              "      <td>Vagabonds</td>\n",
              "      <td>16-03-2020</td>\n",
              "      <td>Coronavirus Australia: Woolworths to give elde...</td>\n",
              "      <td>Positive</td>\n",
              "    </tr>\n",
              "    <tr>\n",
              "      <th>3</th>\n",
              "      <td>3802</td>\n",
              "      <td>48754</td>\n",
              "      <td>NaN</td>\n",
              "      <td>16-03-2020</td>\n",
              "      <td>My food stock is not the only one which is emp...</td>\n",
              "      <td>Positive</td>\n",
              "    </tr>\n",
              "    <tr>\n",
              "      <th>4</th>\n",
              "      <td>3803</td>\n",
              "      <td>48755</td>\n",
              "      <td>NaN</td>\n",
              "      <td>16-03-2020</td>\n",
              "      <td>Me, ready to go at supermarket during the #COV...</td>\n",
              "      <td>Extremely Negative</td>\n",
              "    </tr>\n",
              "  </tbody>\n",
              "</table>\n",
              "</div>"
            ],
            "text/plain": [
              "   UserName  ...           Sentiment\n",
              "0      3799  ...             Neutral\n",
              "1      3800  ...            Positive\n",
              "2      3801  ...            Positive\n",
              "3      3802  ...            Positive\n",
              "4      3803  ...  Extremely Negative\n",
              "\n",
              "[5 rows x 6 columns]"
            ]
          },
          "metadata": {},
          "execution_count": 3
        }
      ]
    },
    {
      "cell_type": "code",
      "metadata": {
        "colab": {
          "base_uri": "https://localhost:8080/",
          "height": 206
        },
        "id": "o3brcAZwwCjt",
        "outputId": "c10428bb-3c6d-4df1-eff9-cdfd73ed144c"
      },
      "source": [
        "test_df.head()"
      ],
      "execution_count": null,
      "outputs": [
        {
          "output_type": "execute_result",
          "data": {
            "text/html": [
              "<div>\n",
              "<style scoped>\n",
              "    .dataframe tbody tr th:only-of-type {\n",
              "        vertical-align: middle;\n",
              "    }\n",
              "\n",
              "    .dataframe tbody tr th {\n",
              "        vertical-align: top;\n",
              "    }\n",
              "\n",
              "    .dataframe thead th {\n",
              "        text-align: right;\n",
              "    }\n",
              "</style>\n",
              "<table border=\"1\" class=\"dataframe\">\n",
              "  <thead>\n",
              "    <tr style=\"text-align: right;\">\n",
              "      <th></th>\n",
              "      <th>UserName</th>\n",
              "      <th>ScreenName</th>\n",
              "      <th>Location</th>\n",
              "      <th>TweetAt</th>\n",
              "      <th>OriginalTweet</th>\n",
              "      <th>Sentiment</th>\n",
              "    </tr>\n",
              "  </thead>\n",
              "  <tbody>\n",
              "    <tr>\n",
              "      <th>0</th>\n",
              "      <td>1</td>\n",
              "      <td>44953</td>\n",
              "      <td>NYC</td>\n",
              "      <td>02-03-2020</td>\n",
              "      <td>TRENDING: New Yorkers encounter empty supermar...</td>\n",
              "      <td>Extremely Negative</td>\n",
              "    </tr>\n",
              "    <tr>\n",
              "      <th>1</th>\n",
              "      <td>2</td>\n",
              "      <td>44954</td>\n",
              "      <td>Seattle, WA</td>\n",
              "      <td>02-03-2020</td>\n",
              "      <td>When I couldn't find hand sanitizer at Fred Me...</td>\n",
              "      <td>Positive</td>\n",
              "    </tr>\n",
              "    <tr>\n",
              "      <th>2</th>\n",
              "      <td>3</td>\n",
              "      <td>44955</td>\n",
              "      <td>NaN</td>\n",
              "      <td>02-03-2020</td>\n",
              "      <td>Find out how you can protect yourself and love...</td>\n",
              "      <td>Extremely Positive</td>\n",
              "    </tr>\n",
              "    <tr>\n",
              "      <th>3</th>\n",
              "      <td>4</td>\n",
              "      <td>44956</td>\n",
              "      <td>Chicagoland</td>\n",
              "      <td>02-03-2020</td>\n",
              "      <td>#Panic buying hits #NewYork City as anxious sh...</td>\n",
              "      <td>Negative</td>\n",
              "    </tr>\n",
              "    <tr>\n",
              "      <th>4</th>\n",
              "      <td>5</td>\n",
              "      <td>44957</td>\n",
              "      <td>Melbourne, Victoria</td>\n",
              "      <td>03-03-2020</td>\n",
              "      <td>#toiletpaper #dunnypaper #coronavirus #coronav...</td>\n",
              "      <td>Neutral</td>\n",
              "    </tr>\n",
              "  </tbody>\n",
              "</table>\n",
              "</div>"
            ],
            "text/plain": [
              "   UserName  ...           Sentiment\n",
              "0         1  ...  Extremely Negative\n",
              "1         2  ...            Positive\n",
              "2         3  ...  Extremely Positive\n",
              "3         4  ...            Negative\n",
              "4         5  ...             Neutral\n",
              "\n",
              "[5 rows x 6 columns]"
            ]
          },
          "metadata": {},
          "execution_count": 4
        }
      ]
    },
    {
      "cell_type": "code",
      "metadata": {
        "colab": {
          "base_uri": "https://localhost:8080/"
        },
        "id": "TXyFgymgwCjt",
        "outputId": "d9680b1c-1801-4e02-ccdc-0810fdf0bf42"
      },
      "source": [
        "train_df.info()"
      ],
      "execution_count": null,
      "outputs": [
        {
          "output_type": "stream",
          "name": "stdout",
          "text": [
            "<class 'pandas.core.frame.DataFrame'>\n",
            "RangeIndex: 41157 entries, 0 to 41156\n",
            "Data columns (total 6 columns):\n",
            " #   Column         Non-Null Count  Dtype \n",
            "---  ------         --------------  ----- \n",
            " 0   UserName       41157 non-null  int64 \n",
            " 1   ScreenName     41157 non-null  int64 \n",
            " 2   Location       32567 non-null  object\n",
            " 3   TweetAt        41157 non-null  object\n",
            " 4   OriginalTweet  41157 non-null  object\n",
            " 5   Sentiment      41157 non-null  object\n",
            "dtypes: int64(2), object(4)\n",
            "memory usage: 1.9+ MB\n"
          ]
        }
      ]
    },
    {
      "cell_type": "code",
      "metadata": {
        "colab": {
          "base_uri": "https://localhost:8080/"
        },
        "id": "palTsR5RwCju",
        "outputId": "855606d2-fc1b-43eb-f893-90bdb4b5a66a"
      },
      "source": [
        "test_df.info()"
      ],
      "execution_count": null,
      "outputs": [
        {
          "output_type": "stream",
          "name": "stdout",
          "text": [
            "<class 'pandas.core.frame.DataFrame'>\n",
            "RangeIndex: 3798 entries, 0 to 3797\n",
            "Data columns (total 6 columns):\n",
            " #   Column         Non-Null Count  Dtype \n",
            "---  ------         --------------  ----- \n",
            " 0   UserName       3798 non-null   int64 \n",
            " 1   ScreenName     3798 non-null   int64 \n",
            " 2   Location       2964 non-null   object\n",
            " 3   TweetAt        3798 non-null   object\n",
            " 4   OriginalTweet  3798 non-null   object\n",
            " 5   Sentiment      3798 non-null   object\n",
            "dtypes: int64(2), object(4)\n",
            "memory usage: 178.2+ KB\n"
          ]
        }
      ]
    },
    {
      "cell_type": "code",
      "metadata": {
        "colab": {
          "base_uri": "https://localhost:8080/"
        },
        "id": "WDtDLWroPI_6",
        "outputId": "2bd1ca7a-eaae-43ea-f566-9a141e0c035e"
      },
      "source": [
        "df = pd.concat([train_df, test_df], axis=0)\n",
        "df.info()"
      ],
      "execution_count": null,
      "outputs": [
        {
          "output_type": "stream",
          "name": "stdout",
          "text": [
            "<class 'pandas.core.frame.DataFrame'>\n",
            "Int64Index: 44955 entries, 0 to 3797\n",
            "Data columns (total 6 columns):\n",
            " #   Column         Non-Null Count  Dtype \n",
            "---  ------         --------------  ----- \n",
            " 0   UserName       44955 non-null  int64 \n",
            " 1   ScreenName     44955 non-null  int64 \n",
            " 2   Location       35531 non-null  object\n",
            " 3   TweetAt        44955 non-null  object\n",
            " 4   OriginalTweet  44955 non-null  object\n",
            " 5   Sentiment      44955 non-null  object\n",
            "dtypes: int64(2), object(4)\n",
            "memory usage: 2.4+ MB\n"
          ]
        }
      ]
    },
    {
      "cell_type": "code",
      "metadata": {
        "colab": {
          "base_uri": "https://localhost:8080/",
          "height": 363
        },
        "id": "405malOZVauP",
        "outputId": "b27b10db-1ce9-4edf-88db-8f607cc02853"
      },
      "source": [
        "df[190:200]"
      ],
      "execution_count": null,
      "outputs": [
        {
          "output_type": "execute_result",
          "data": {
            "text/html": [
              "<div>\n",
              "<style scoped>\n",
              "    .dataframe tbody tr th:only-of-type {\n",
              "        vertical-align: middle;\n",
              "    }\n",
              "\n",
              "    .dataframe tbody tr th {\n",
              "        vertical-align: top;\n",
              "    }\n",
              "\n",
              "    .dataframe thead th {\n",
              "        text-align: right;\n",
              "    }\n",
              "</style>\n",
              "<table border=\"1\" class=\"dataframe\">\n",
              "  <thead>\n",
              "    <tr style=\"text-align: right;\">\n",
              "      <th></th>\n",
              "      <th>UserName</th>\n",
              "      <th>ScreenName</th>\n",
              "      <th>Location</th>\n",
              "      <th>TweetAt</th>\n",
              "      <th>OriginalTweet</th>\n",
              "      <th>Sentiment</th>\n",
              "    </tr>\n",
              "  </thead>\n",
              "  <tbody>\n",
              "    <tr>\n",
              "      <th>190</th>\n",
              "      <td>3989</td>\n",
              "      <td>48941</td>\n",
              "      <td>London | New York | Munich</td>\n",
              "      <td>16-03-2020</td>\n",
              "      <td>\"I already stocked up on food. Ammo was just t...</td>\n",
              "      <td>Negative</td>\n",
              "    </tr>\n",
              "    <tr>\n",
              "      <th>191</th>\n",
              "      <td>3990</td>\n",
              "      <td>48942</td>\n",
              "      <td>West Hollywood, CA</td>\n",
              "      <td>16-03-2020</td>\n",
              "      <td>Why donÂt we make most grocery stores pickup ...</td>\n",
              "      <td>Negative</td>\n",
              "    </tr>\n",
              "    <tr>\n",
              "      <th>192</th>\n",
              "      <td>3991</td>\n",
              "      <td>48943</td>\n",
              "      <td>Fujairah, UAE.</td>\n",
              "      <td>16-03-2020</td>\n",
              "      <td>Joining hands with the UAE's efforts to contai...</td>\n",
              "      <td>Extremely Positive</td>\n",
              "    </tr>\n",
              "    <tr>\n",
              "      <th>193</th>\n",
              "      <td>3992</td>\n",
              "      <td>48944</td>\n",
              "      <td>OnTheEdgeSEMelbourne</td>\n",
              "      <td>16-03-2020</td>\n",
              "      <td>Given restrictions around COVID 19 FIC will be...</td>\n",
              "      <td>Positive</td>\n",
              "    </tr>\n",
              "    <tr>\n",
              "      <th>194</th>\n",
              "      <td>3993</td>\n",
              "      <td>48945</td>\n",
              "      <td>somewhere windy</td>\n",
              "      <td>16-03-2020</td>\n",
              "      <td>When people that were out here not taking COVI...</td>\n",
              "      <td>Positive</td>\n",
              "    </tr>\n",
              "    <tr>\n",
              "      <th>195</th>\n",
              "      <td>3994</td>\n",
              "      <td>48946</td>\n",
              "      <td>Las Vegas, NV</td>\n",
              "      <td>16-03-2020</td>\n",
              "      <td>@SarahHollenbeck @MyClearwater @abcactionnews ...</td>\n",
              "      <td>Neutral</td>\n",
              "    </tr>\n",
              "    <tr>\n",
              "      <th>196</th>\n",
              "      <td>3995</td>\n",
              "      <td>48947</td>\n",
              "      <td>Commonwealth of Massachusetts</td>\n",
              "      <td>16-03-2020</td>\n",
              "      <td>&amp;gt;@MassGovernor announces $10M loan fund adm...</td>\n",
              "      <td>Extremely Positive</td>\n",
              "    </tr>\n",
              "    <tr>\n",
              "      <th>197</th>\n",
              "      <td>3996</td>\n",
              "      <td>48948</td>\n",
              "      <td>Dallas, TX</td>\n",
              "      <td>16-03-2020</td>\n",
              "      <td>All the pasta, pasta sauce and pizza were sold...</td>\n",
              "      <td>Neutral</td>\n",
              "    </tr>\n",
              "    <tr>\n",
              "      <th>198</th>\n",
              "      <td>3997</td>\n",
              "      <td>48949</td>\n",
              "      <td>USA</td>\n",
              "      <td>16-03-2020</td>\n",
              "      <td>DO NOT PANIC. DO NOT FEAR. \\r\\r\\nFear Is the M...</td>\n",
              "      <td>Extremely Positive</td>\n",
              "    </tr>\n",
              "    <tr>\n",
              "      <th>199</th>\n",
              "      <td>3998</td>\n",
              "      <td>48950</td>\n",
              "      <td>Cambridge, MA</td>\n",
              "      <td>16-03-2020</td>\n",
              "      <td>Our retail store will be closed through the en...</td>\n",
              "      <td>Positive</td>\n",
              "    </tr>\n",
              "  </tbody>\n",
              "</table>\n",
              "</div>"
            ],
            "text/plain": [
              "     UserName  ...           Sentiment\n",
              "190      3989  ...            Negative\n",
              "191      3990  ...            Negative\n",
              "192      3991  ...  Extremely Positive\n",
              "193      3992  ...            Positive\n",
              "194      3993  ...            Positive\n",
              "195      3994  ...             Neutral\n",
              "196      3995  ...  Extremely Positive\n",
              "197      3996  ...             Neutral\n",
              "198      3997  ...  Extremely Positive\n",
              "199      3998  ...            Positive\n",
              "\n",
              "[10 rows x 6 columns]"
            ]
          },
          "metadata": {},
          "execution_count": 8
        }
      ]
    },
    {
      "cell_type": "code",
      "metadata": {
        "colab": {
          "base_uri": "https://localhost:8080/"
        },
        "id": "LAb7BfE-PF_L",
        "outputId": "d25f1538-de8d-4a97-f4b4-a627511b6be2"
      },
      "source": [
        "df['Location'] = df['Location'].fillna('Unknown')\n",
        "df.info()"
      ],
      "execution_count": null,
      "outputs": [
        {
          "output_type": "stream",
          "name": "stdout",
          "text": [
            "<class 'pandas.core.frame.DataFrame'>\n",
            "Int64Index: 44955 entries, 0 to 3797\n",
            "Data columns (total 6 columns):\n",
            " #   Column         Non-Null Count  Dtype \n",
            "---  ------         --------------  ----- \n",
            " 0   UserName       44955 non-null  int64 \n",
            " 1   ScreenName     44955 non-null  int64 \n",
            " 2   Location       44955 non-null  object\n",
            " 3   TweetAt        44955 non-null  object\n",
            " 4   OriginalTweet  44955 non-null  object\n",
            " 5   Sentiment      44955 non-null  object\n",
            "dtypes: int64(2), object(4)\n",
            "memory usage: 2.4+ MB\n"
          ]
        }
      ]
    },
    {
      "cell_type": "code",
      "metadata": {
        "id": "jsvsZt_SPzxd"
      },
      "source": [
        "df['length_tw'] = df['OriginalTweet'].str.len()"
      ],
      "execution_count": null,
      "outputs": []
    },
    {
      "cell_type": "markdown",
      "metadata": {
        "id": "OTAWaWP6Ky0W"
      },
      "source": [
        "### Plotting distributions"
      ]
    },
    {
      "cell_type": "code",
      "metadata": {
        "colab": {
          "base_uri": "https://localhost:8080/",
          "height": 120
        },
        "id": "0kn_XlkPK2y8",
        "outputId": "e37240e1-be73-4642-f4dc-289b04db6b89"
      },
      "source": [
        "df['length_tw'].plot(kind='box', vert=False, figsize=(8, 1))"
      ],
      "execution_count": null,
      "outputs": [
        {
          "output_type": "execute_result",
          "data": {
            "text/plain": [
              "<matplotlib.axes._subplots.AxesSubplot at 0x7f83230a2850>"
            ]
          },
          "metadata": {},
          "execution_count": 11
        },
        {
          "output_type": "display_data",
          "data": {
            "image/png": "[encoded data removed]",
            "text/plain": [
              "<Figure size 576x72 with 1 Axes>"
            ]
          },
          "metadata": {
            "needs_background": "light"
          }
        }
      ]
    },
    {
      "cell_type": "code",
      "metadata": {
        "colab": {
          "base_uri": "https://localhost:8080/",
          "height": 284
        },
        "id": "TOgkoZ86K3D1",
        "outputId": "c66c7a86-078a-4fac-cc9e-d3abaa7c599c"
      },
      "source": [
        "df['length_tw'].plot(kind='hist', figsize=(6, 4), edgecolor='k')"
      ],
      "execution_count": null,
      "outputs": [
        {
          "output_type": "execute_result",
          "data": {
            "text/plain": [
              "<matplotlib.axes._subplots.AxesSubplot at 0x7f8322f8c890>"
            ]
          },
          "metadata": {},
          "execution_count": 12
        },
        {
          "output_type": "display_data",
          "data": {
            "image/png": "[encoded data removed]",
            "text/plain": [
              "<Figure size 432x288 with 1 Axes>"
            ]
          },
          "metadata": {
            "needs_background": "light"
          }
        }
      ]
    },
    {
      "cell_type": "markdown",
      "metadata": {
        "id": "FcWTQQi0wCjv"
      },
      "source": [
        "## Preprocessing Data"
      ]
    },
    {
      "cell_type": "code",
      "metadata": {
        "id": "1HQ7QWPPwCjw"
      },
      "source": [
        "from sklearn.preprocessing import LabelEncoder\n",
        "le = LabelEncoder()\n",
        "train_df['Sentiment'] = le.fit_transform(train_df['Sentiment'])\n",
        "test_df['Sentiment'] = le.transform(test_df['Sentiment'])"
      ],
      "execution_count": null,
      "outputs": []
    },
    {
      "cell_type": "code",
      "metadata": {
        "colab": {
          "base_uri": "https://localhost:8080/",
          "height": 206
        },
        "id": "1L0SwkyLwCjx",
        "outputId": "4d1eb74b-10ec-4c6f-de1c-1ca6e9d082f8"
      },
      "source": [
        "train_df.head()"
      ],
      "execution_count": null,
      "outputs": [
        {
          "output_type": "execute_result",
          "data": {
            "text/html": [
              "<div>\n",
              "<style scoped>\n",
              "    .dataframe tbody tr th:only-of-type {\n",
              "        vertical-align: middle;\n",
              "    }\n",
              "\n",
              "    .dataframe tbody tr th {\n",
              "        vertical-align: top;\n",
              "    }\n",
              "\n",
              "    .dataframe thead th {\n",
              "        text-align: right;\n",
              "    }\n",
              "</style>\n",
              "<table border=\"1\" class=\"dataframe\">\n",
              "  <thead>\n",
              "    <tr style=\"text-align: right;\">\n",
              "      <th></th>\n",
              "      <th>UserName</th>\n",
              "      <th>ScreenName</th>\n",
              "      <th>Location</th>\n",
              "      <th>TweetAt</th>\n",
              "      <th>OriginalTweet</th>\n",
              "      <th>Sentiment</th>\n",
              "    </tr>\n",
              "  </thead>\n",
              "  <tbody>\n",
              "    <tr>\n",
              "      <th>0</th>\n",
              "      <td>3799</td>\n",
              "      <td>48751</td>\n",
              "      <td>London</td>\n",
              "      <td>16-03-2020</td>\n",
              "      <td>@MeNyrbie @Phil_Gahan @Chrisitv https://t.co/i...</td>\n",
              "      <td>3</td>\n",
              "    </tr>\n",
              "    <tr>\n",
              "      <th>1</th>\n",
              "      <td>3800</td>\n",
              "      <td>48752</td>\n",
              "      <td>UK</td>\n",
              "      <td>16-03-2020</td>\n",
              "      <td>advice Talk to your neighbours family to excha...</td>\n",
              "      <td>4</td>\n",
              "    </tr>\n",
              "    <tr>\n",
              "      <th>2</th>\n",
              "      <td>3801</td>\n",
              "      <td>48753</td>\n",
              "      <td>Vagabonds</td>\n",
              "      <td>16-03-2020</td>\n",
              "      <td>Coronavirus Australia: Woolworths to give elde...</td>\n",
              "      <td>4</td>\n",
              "    </tr>\n",
              "    <tr>\n",
              "      <th>3</th>\n",
              "      <td>3802</td>\n",
              "      <td>48754</td>\n",
              "      <td>NaN</td>\n",
              "      <td>16-03-2020</td>\n",
              "      <td>My food stock is not the only one which is emp...</td>\n",
              "      <td>4</td>\n",
              "    </tr>\n",
              "    <tr>\n",
              "      <th>4</th>\n",
              "      <td>3803</td>\n",
              "      <td>48755</td>\n",
              "      <td>NaN</td>\n",
              "      <td>16-03-2020</td>\n",
              "      <td>Me, ready to go at supermarket during the #COV...</td>\n",
              "      <td>0</td>\n",
              "    </tr>\n",
              "  </tbody>\n",
              "</table>\n",
              "</div>"
            ],
            "text/plain": [
              "   UserName  ...  Sentiment\n",
              "0      3799  ...          3\n",
              "1      3800  ...          4\n",
              "2      3801  ...          4\n",
              "3      3802  ...          4\n",
              "4      3803  ...          0\n",
              "\n",
              "[5 rows x 6 columns]"
            ]
          },
          "metadata": {},
          "execution_count": 14
        }
      ]
    },
    {
      "cell_type": "code",
      "metadata": {
        "colab": {
          "base_uri": "https://localhost:8080/"
        },
        "id": "OHwgdCaSwCjy",
        "outputId": "9b210c84-3661-4755-8cc0-8097d068e48f"
      },
      "source": [
        "le.classes_"
      ],
      "execution_count": null,
      "outputs": [
        {
          "output_type": "execute_result",
          "data": {
            "text/plain": [
              "array(['Extremely Negative', 'Extremely Positive', 'Negative', 'Neutral',\n",
              "       'Positive'], dtype=object)"
            ]
          },
          "metadata": {},
          "execution_count": 15
        }
      ]
    },
    {
      "cell_type": "code",
      "metadata": {
        "colab": {
          "base_uri": "https://localhost:8080/"
        },
        "id": "dy2JB9FNwCjy",
        "outputId": "078f2386-7e23-4e51-cdb6-82f4cdf25f28"
      },
      "source": [
        "import nltk\n",
        "from nltk.corpus import stopwords\n",
        "nltk.download('stopwords')"
      ],
      "execution_count": null,
      "outputs": [
        {
          "output_type": "stream",
          "name": "stdout",
          "text": [
            "[nltk_data] Downloading package stopwords to /root/nltk_data...\n",
            "[nltk_data]   Unzipping corpora/stopwords.zip.\n"
          ]
        },
        {
          "output_type": "execute_result",
          "data": {
            "text/plain": [
              "True"
            ]
          },
          "metadata": {},
          "execution_count": 16
        }
      ]
    },
    {
      "cell_type": "code",
      "metadata": {
        "id": "kHd6jyyvwCjz"
      },
      "source": [
        "# clean data\n",
        "REPLACE_BY_SPACE_RE = re.compile('[/(){}\\[\\]\\|@,;]')\n",
        "BAD_SYMBOLS_RE = re.compile('[^0-9a-z #+_]')\n",
        "HTML_TAG_RE = re.compile('<.*?>') \n",
        "STOPWORDS = set(stopwords.words('english'))\n",
        "EMOJI_RE = re.compile(\"[\"u\"\\U0001F600-\\U0001F64F\"  # emoticons\n",
        "                         u\"\\U0001F300-\\U0001F5FF\"  # symbols & pictographs\n",
        "                         u\"\\U0001F680-\\U0001F6FF\"  # transport & map symbols\n",
        "                         u\"\\U0001F1E0-\\U0001F1FF\"  # flags (iOS)\n",
        "                         u\"\\U00002702-\\U000027B0\"\n",
        "                         u\"\\U000024C2-\\U0001F251\"\n",
        "                           \"]+\", flags=re.UNICODE)\n",
        "URL_RE = re.compile(\"https?://\\S+|www\\.\\S+\")\n",
        "\n",
        "def clean_text(text):\n",
        "    text = text.lower() # lowercase text\n",
        "    text = URL_RE.sub('', text)\n",
        "    text = HTML_TAG_RE.sub('', text)\n",
        "    text = EMOJI_RE.sub('', text)\n",
        "    text = REPLACE_BY_SPACE_RE.sub(' ', text)\n",
        "    text = BAD_SYMBOLS_RE.sub('', text) \n",
        "#    text = re.sub(r'\\W+', '', text)\n",
        "    text = ' '.join(word for word in text.split() if word not in STOPWORDS) # remove stopwors from text\n",
        "    return text"
      ],
      "execution_count": null,
      "outputs": []
    },
    {
      "cell_type": "code",
      "metadata": {
        "id": "LJeI9h-_wCj0"
      },
      "source": [
        "train_df['OriginalTweet'] = train_df['OriginalTweet'].apply(clean_text)\n",
        "test_df['OriginalTweet'] = test_df['OriginalTweet'].apply(clean_text)"
      ],
      "execution_count": null,
      "outputs": []
    },
    {
      "cell_type": "code",
      "metadata": {
        "colab": {
          "base_uri": "https://localhost:8080/",
          "height": 206
        },
        "id": "yvAE40VywCj0",
        "outputId": "8d0fa89c-5662-4ddb-af61-88f6784ee478"
      },
      "source": [
        "train_df.head()"
      ],
      "execution_count": null,
      "outputs": [
        {
          "output_type": "execute_result",
          "data": {
            "text/html": [
              "<div>\n",
              "<style scoped>\n",
              "    .dataframe tbody tr th:only-of-type {\n",
              "        vertical-align: middle;\n",
              "    }\n",
              "\n",
              "    .dataframe tbody tr th {\n",
              "        vertical-align: top;\n",
              "    }\n",
              "\n",
              "    .dataframe thead th {\n",
              "        text-align: right;\n",
              "    }\n",
              "</style>\n",
              "<table border=\"1\" class=\"dataframe\">\n",
              "  <thead>\n",
              "    <tr style=\"text-align: right;\">\n",
              "      <th></th>\n",
              "      <th>UserName</th>\n",
              "      <th>ScreenName</th>\n",
              "      <th>Location</th>\n",
              "      <th>TweetAt</th>\n",
              "      <th>OriginalTweet</th>\n",
              "      <th>Sentiment</th>\n",
              "    </tr>\n",
              "  </thead>\n",
              "  <tbody>\n",
              "    <tr>\n",
              "      <th>0</th>\n",
              "      <td>3799</td>\n",
              "      <td>48751</td>\n",
              "      <td>London</td>\n",
              "      <td>16-03-2020</td>\n",
              "      <td>menyrbie phil_gahan chrisitv</td>\n",
              "      <td>3</td>\n",
              "    </tr>\n",
              "    <tr>\n",
              "      <th>1</th>\n",
              "      <td>3800</td>\n",
              "      <td>48752</td>\n",
              "      <td>UK</td>\n",
              "      <td>16-03-2020</td>\n",
              "      <td>advice talk neighbours family exchange phone n...</td>\n",
              "      <td>4</td>\n",
              "    </tr>\n",
              "    <tr>\n",
              "      <th>2</th>\n",
              "      <td>3801</td>\n",
              "      <td>48753</td>\n",
              "      <td>Vagabonds</td>\n",
              "      <td>16-03-2020</td>\n",
              "      <td>coronavirus australia woolworths give elderly ...</td>\n",
              "      <td>4</td>\n",
              "    </tr>\n",
              "    <tr>\n",
              "      <th>3</th>\n",
              "      <td>3802</td>\n",
              "      <td>48754</td>\n",
              "      <td>NaN</td>\n",
              "      <td>16-03-2020</td>\n",
              "      <td>food stock one emptyplease dont panic enough f...</td>\n",
              "      <td>4</td>\n",
              "    </tr>\n",
              "    <tr>\n",
              "      <th>4</th>\n",
              "      <td>3803</td>\n",
              "      <td>48755</td>\n",
              "      <td>NaN</td>\n",
              "      <td>16-03-2020</td>\n",
              "      <td>ready go supermarket #covid19 outbreaknot im p...</td>\n",
              "      <td>0</td>\n",
              "    </tr>\n",
              "  </tbody>\n",
              "</table>\n",
              "</div>"
            ],
            "text/plain": [
              "   UserName  ...  Sentiment\n",
              "0      3799  ...          3\n",
              "1      3800  ...          4\n",
              "2      3801  ...          4\n",
              "3      3802  ...          4\n",
              "4      3803  ...          0\n",
              "\n",
              "[5 rows x 6 columns]"
            ]
          },
          "metadata": {},
          "execution_count": 19
        }
      ]
    },
    {
      "cell_type": "code",
      "metadata": {
        "id": "ufo-qLkTwCj0"
      },
      "source": [
        "from tensorflow.keras.utils import to_categorical\n",
        "train_labels = to_categorical(train_df['Sentiment'])\n",
        "test_labels = to_categorical(test_df['Sentiment'])"
      ],
      "execution_count": null,
      "outputs": []
    },
    {
      "cell_type": "markdown",
      "metadata": {
        "id": "bnyLhvV4zUN9"
      },
      "source": [
        "## Modeling"
      ]
    },
    {
      "cell_type": "code",
      "metadata": {
        "id": "-OGcU5Zn0wyO"
      },
      "source": [
        "from tensorflow.keras.optimizers import Adam\n",
        "from keras.callbacks import ModelCheckpoint\n",
        "from keras.models import Sequential\n",
        "from keras.layers import Embedding, SpatialDropout1D, LSTM, Dense, GlobalMaxPooling1D, Dropout, Bidirectional, GRU\n",
        "from keras.callbacks import EarlyStopping\n",
        "from keras.models import load_model"
      ],
      "execution_count": null,
      "outputs": []
    },
    {
      "cell_type": "code",
      "metadata": {
        "id": "XftjVgiawCj1"
      },
      "source": [
        "from keras.preprocessing.text import Tokenizer\n",
        "from keras.preprocessing.sequence import pad_sequences\n",
        "\n",
        "MAX_NB_WORDS = 50000\n",
        "MAX_SEQUENCE_LENGTH = 250\n",
        "EMBEDDING_DIM = 128\n",
        "\n",
        "tokenizer = Tokenizer(num_words=MAX_NB_WORDS, \n",
        "                      filters='!\"#$%&()*+,-./:;<=>?@[\\]^_`{|}~', \n",
        "                      lower=True)\n",
        "tokenizer.fit_on_texts(train_df['OriginalTweet'].values)\n",
        "word_index = tokenizer.word_index\n",
        "TOTAL_WORDS = len(word_index) + 1"
      ],
      "execution_count": null,
      "outputs": []
    },
    {
      "cell_type": "code",
      "metadata": {
        "id": "3tuSUPbPdnE3",
        "colab": {
          "base_uri": "https://localhost:8080/"
        },
        "outputId": "ac7fc865-9b2c-41ba-d2ab-d0b284a8d738"
      },
      "source": [
        "X.shape"
      ],
      "execution_count": null,
      "outputs": [
        {
          "output_type": "execute_result",
          "data": {
            "text/plain": [
              "(41157, 250)"
            ]
          },
          "metadata": {},
          "execution_count": 26
        }
      ]
    },
    {
      "cell_type": "code",
      "metadata": {
        "id": "ZW9o00o4dpdp",
        "colab": {
          "base_uri": "https://localhost:8080/"
        },
        "outputId": "1b78aee6-616f-44ee-e4b3-916bce5d74d7"
      },
      "source": [
        "train_labels.shape"
      ],
      "execution_count": null,
      "outputs": [
        {
          "output_type": "execute_result",
          "data": {
            "text/plain": [
              "(41157, 5)"
            ]
          },
          "metadata": {},
          "execution_count": 27
        }
      ]
    },
    {
      "cell_type": "code",
      "metadata": {
        "id": "bkrpVm8-zzRc"
      },
      "source": [
        "X = tokenizer.texts_to_sequences(train_df['OriginalTweet'].values)\n",
        "X = pad_sequences(X, maxlen= MAX_SEQUENCE_LENGTH)"
      ],
      "execution_count": null,
      "outputs": []
    },
    {
      "cell_type": "code",
      "metadata": {
        "id": "3uULmGsGFR6Y"
      },
      "source": [
        "X_test = tokenizer.texts_to_sequences(test_df['OriginalTweet'].values)\n",
        "X_test = pad_sequences(X_test, maxlen= MAX_SEQUENCE_LENGTH)"
      ],
      "execution_count": null,
      "outputs": []
    },
    {
      "cell_type": "code",
      "metadata": {
        "colab": {
          "base_uri": "https://localhost:8080/"
        },
        "id": "A2kCYj6-0h60",
        "outputId": "b01bccf0-407f-49e9-81c4-c7d72e2b2fe9"
      },
      "source": [
        "print(\"padding sequence: \", X[1])\n",
        "print(\"Original before padding: \", train_df['OriginalTweet'][1])"
      ],
      "execution_count": null,
      "outputs": [
        {
          "output_type": "stream",
          "name": "stdout",
          "text": [
            "padding sequence:  [    0     0     0     0     0     0     0     0     0     0     0     0\n",
            "     0     0     0     0     0     0     0     0     0     0     0     0\n",
            "     0     0     0     0     0     0     0     0     0     0     0     0\n",
            "     0     0     0     0     0     0     0     0     0     0     0     0\n",
            "     0     0     0     0     0     0     0     0     0     0     0     0\n",
            "     0     0     0     0     0     0     0     0     0     0     0     0\n",
            "     0     0     0     0     0     0     0     0     0     0     0     0\n",
            "     0     0     0     0     0     0     0     0     0     0     0     0\n",
            "     0     0     0     0     0     0     0     0     0     0     0     0\n",
            "     0     0     0     0     0     0     0     0     0     0     0     0\n",
            "     0     0     0     0     0     0     0     0     0     0     0     0\n",
            "     0     0     0     0     0     0     0     0     0     0     0     0\n",
            "     0     0     0     0     0     0     0     0     0     0     0     0\n",
            "     0     0     0     0     0     0     0     0     0     0     0     0\n",
            "     0     0     0     0     0     0     0     0     0     0     0     0\n",
            "     0     0     0     0     0     0     0     0     0     0     0     0\n",
            "     0     0     0     0     0     0     0     0     0     0     0     0\n",
            "     0     0     0     0     0     0     0     0     0     0     0     0\n",
            "     0     0     0     0     0     0     0   412   787  2503   177  2888\n",
            "   769  1182  1014   353   294   769  1182  2503  1105  3908  3496  5026\n",
            "   390    14    13  2329 13153  3165   111   981  3010   152]\n",
            "Original before padding:  advice talk neighbours family exchange phone numbers create contact list phone numbers neighbours schools employer chemist gp set online shopping accounts poss adequate supplies regular meds order\n"
          ]
        }
      ]
    },
    {
      "cell_type": "markdown",
      "metadata": {
        "id": "-D47_pKAE1zU"
      },
      "source": [
        "### LSTM\n",
        "#### create first model"
      ]
    },
    {
      "cell_type": "code",
      "metadata": {
        "colab": {
          "base_uri": "https://localhost:8080/"
        },
        "id": "8B_-f6b71VU1",
        "outputId": "3c12193c-b9ad-490c-e5b9-ff97d7615f31"
      },
      "source": [
        "model = Sequential()\n",
        "model.add(Embedding(MAX_NB_WORDS, EMBEDDING_DIM, input_length=X.shape[1]))\n",
        "model.add(SpatialDropout1D(0.2))\n",
        "model.add(LSTM(100, dropout= 0.2, recurrent_dropout=0.2))\n",
        "model.add(Dense(128, activation='relu'))\n",
        "model.add(Dense(64, activation='relu'))\n",
        "model.add(Dense(32, activation='relu'))\n",
        "model.add(Dense(16, activation='relu'))\n",
        "model.add(Dense(5, activation= 'softmax'))"
      ],
      "execution_count": null,
      "outputs": [
        {
          "name": "stdout",
          "output_type": "stream",
          "text": [
            "WARNING:tensorflow:Layer lstm will not use cuDNN kernels since it doesn't meet the criteria. It will use a generic GPU kernel as fallback when running on GPU.\n"
          ]
        }
      ]
    },
    {
      "cell_type": "code",
      "metadata": {
        "colab": {
          "base_uri": "https://localhost:8080/"
        },
        "id": "lcNx9V7P3DzA",
        "outputId": "b6381ec7-9513-4357-e2eb-df3cf87eb0c2"
      },
      "source": [
        "model.compile(optimizer='adam', loss='categorical_crossentropy', metrics=['accuracy'])\n",
        "model.summary()"
      ],
      "execution_count": null,
      "outputs": [
        {
          "name": "stdout",
          "output_type": "stream",
          "text": [
            "Model: \"sequential\"\n",
            "_________________________________________________________________\n",
            " Layer (type)                Output Shape              Param #   \n",
            "=================================================================\n",
            " embedding (Embedding)       (None, 250, 128)          6400000   \n",
            "                                                                 \n",
            " spatial_dropout1d (SpatialD  (None, 250, 128)         0         \n",
            " ropout1D)                                                       \n",
            "                                                                 \n",
            " lstm (LSTM)                 (None, 100)               91600     \n",
            "                                                                 \n",
            " dense (Dense)               (None, 128)               12928     \n",
            "                                                                 \n",
            " dense_1 (Dense)             (None, 64)                8256      \n",
            "                                                                 \n",
            " dense_2 (Dense)             (None, 32)                2080      \n",
            "                                                                 \n",
            " dense_3 (Dense)             (None, 16)                528       \n",
            "                                                                 \n",
            " dense_4 (Dense)             (None, 5)                 85        \n",
            "                                                                 \n",
            "=================================================================\n",
            "Total params: 6,515,477\n",
            "Trainable params: 6,515,477\n",
            "Non-trainable params: 0\n",
            "_________________________________________________________________\n"
          ]
        }
      ]
    },
    {
      "cell_type": "code",
      "metadata": {
        "colab": {
          "base_uri": "https://localhost:8080/"
        },
        "id": "8kyBBzBj3TfH",
        "outputId": "1c078751-98a2-448d-c6ab-20b0ee07c432"
      },
      "source": [
        "history = model.fit(X, train_labels,\n",
        "          epochs=10, \n",
        "          batch_size=64,\n",
        "          validation_split=0.1\n",
        "          )\n",
        "model.save('lstm_model.h5')"
      ],
      "execution_count": null,
      "outputs": [
        {
          "name": "stdout",
          "output_type": "stream",
          "text": [
            "Epoch 1/10\n",
            "579/579 [==============================] - 649s 1s/step - loss: 1.2567 - accuracy: 0.4542 - val_loss: 0.8750 - val_accuracy: 0.6535\n",
            "Epoch 2/10\n",
            "579/579 [==============================] - 648s 1s/step - loss: 0.6958 - accuracy: 0.7442 - val_loss: 0.7221 - val_accuracy: 0.7437\n",
            "Epoch 3/10\n",
            "579/579 [==============================] - 646s 1s/step - loss: 0.4615 - accuracy: 0.8412 - val_loss: 0.7873 - val_accuracy: 0.7359\n",
            "Epoch 4/10\n",
            "579/579 [==============================] - 642s 1s/step - loss: 0.3290 - accuracy: 0.8870 - val_loss: 0.9467 - val_accuracy: 0.7075\n",
            "Epoch 5/10\n",
            "579/579 [==============================] - 647s 1s/step - loss: 0.2404 - accuracy: 0.9184 - val_loss: 1.0090 - val_accuracy: 0.7150\n",
            "Epoch 6/10\n",
            "579/579 [==============================] - 646s 1s/step - loss: 0.1858 - accuracy: 0.9374 - val_loss: 1.1230 - val_accuracy: 0.6995\n",
            "Epoch 7/10\n",
            "579/579 [==============================] - 643s 1s/step - loss: 0.1471 - accuracy: 0.9501 - val_loss: 1.2748 - val_accuracy: 0.6885\n",
            "Epoch 8/10\n",
            "579/579 [==============================] - 643s 1s/step - loss: 0.1202 - accuracy: 0.9602 - val_loss: 1.3369 - val_accuracy: 0.6980\n",
            "Epoch 9/10\n",
            "579/579 [==============================] - 644s 1s/step - loss: 0.0937 - accuracy: 0.9700 - val_loss: 1.4579 - val_accuracy: 0.6980\n",
            "Epoch 10/10\n",
            "579/579 [==============================] - 635s 1s/step - loss: 0.0776 - accuracy: 0.9748 - val_loss: 1.5559 - val_accuracy: 0.6888\n"
          ]
        }
      ]
    },
    {
      "cell_type": "code",
      "metadata": {
        "colab": {
          "base_uri": "https://localhost:8080/",
          "height": 317
        },
        "id": "YNrjkFCyYyrW",
        "outputId": "d0cd7b79-0107-49d7-ca83-31c61d94eab1"
      },
      "source": [
        "fig, (ax1, ax2) = plt.subplots(1, 2,figsize=(12, 4))\n",
        "plt.figure(figsize=(10,3))\n",
        "\n",
        "ax1.set_title('Loss')\n",
        "ax1.plot(history.history['loss'], label='train')\n",
        "ax1.plot(history.history['val_loss'], label='val')\n",
        "ax1.legend()\n",
        "\n",
        "ax2.set_title(\"Accuracy\")\n",
        "ax2.plot(history.history['accuracy'], label='train')\n",
        "ax2.plot(history.history['val_accuracy'], label='val')\n",
        "ax2.legend()"
      ],
      "execution_count": null,
      "outputs": [
        {
          "data": {
            "text/plain": [
              "<matplotlib.legend.Legend at 0x7f1300217710>"
            ]
          },
          "execution_count": 28,
          "metadata": {},
          "output_type": "execute_result"
        },
        {
          "data": {
            "image/png": "[encoded data removed]",
            "text/plain": [
              "<Figure size 864x288 with 2 Axes>"
            ]
          },
          "metadata": {},
          "output_type": "display_data"
        },
        {
          "data": {
            "text/plain": [
              "<Figure size 720x216 with 0 Axes>"
            ]
          },
          "metadata": {},
          "output_type": "display_data"
        }
      ]
    },
    {
      "cell_type": "markdown",
      "metadata": {
        "id": "CWuE2G2bEtOt"
      },
      "source": [
        "#### evaluate first model"
      ]
    },
    {
      "cell_type": "code",
      "metadata": {
        "colab": {
          "base_uri": "https://localhost:8080/"
        },
        "id": "3xGGOaZ4arTB",
        "outputId": "4e9c1852-f068-44d7-b69b-96812b81c0ea"
      },
      "source": [
        "model = load_model('lstm_model.h5')"
      ],
      "execution_count": null,
      "outputs": [
        {
          "name": "stdout",
          "output_type": "stream",
          "text": [
            "WARNING:tensorflow:Layer lstm will not use cuDNN kernels since it doesn't meet the criteria. It will use a generic GPU kernel as fallback when running on GPU.\n"
          ]
        }
      ]
    },
    {
      "cell_type": "code",
      "metadata": {
        "colab": {
          "base_uri": "https://localhost:8080/"
        },
        "id": "jT0mu9hfEsVP",
        "outputId": "065aad3a-d4fc-4815-de33-82e71cbeb8bd"
      },
      "source": [
        "model.evaluate(X_test, test_labels)"
      ],
      "execution_count": null,
      "outputs": [
        {
          "name": "stdout",
          "output_type": "stream",
          "text": [
            "119/119 [==============================] - 15s 101ms/step - loss: 1.7596 - accuracy: 0.6567\n"
          ]
        },
        {
          "data": {
            "text/plain": [
              "[1.759566307067871, 0.6566613912582397]"
            ]
          },
          "execution_count": 37,
          "metadata": {},
          "output_type": "execute_result"
        }
      ]
    },
    {
      "cell_type": "code",
      "metadata": {
        "colab": {
          "base_uri": "https://localhost:8080/"
        },
        "id": "VlW0HMXyFxaf",
        "outputId": "ae699160-09f9-4ec7-a53d-5d8038ca7301"
      },
      "source": [
        "# Predict test datset\n",
        "model_pred = np.round(model.predict(X_test))\n",
        "model_report = classification_report(test_labels, model_pred)"
      ],
      "execution_count": null,
      "outputs": [
        {
          "name": "stderr",
          "output_type": "stream",
          "text": [
            "/usr/local/lib/python3.7/dist-packages/sklearn/metrics/_classification.py:1308: UndefinedMetricWarning: Precision and F-score are ill-defined and being set to 0.0 in samples with no predicted labels. Use `zero_division` parameter to control this behavior.\n",
            "  _warn_prf(average, modifier, msg_start, len(result))\n"
          ]
        }
      ]
    },
    {
      "cell_type": "code",
      "metadata": {
        "colab": {
          "base_uri": "https://localhost:8080/"
        },
        "id": "hNyiyXDKGRxO",
        "outputId": "a6cf0734-9c71-4ed4-bd1e-30dd272becc8"
      },
      "source": [
        "print(model_report)"
      ],
      "execution_count": null,
      "outputs": [
        {
          "name": "stdout",
          "output_type": "stream",
          "text": [
            "              precision    recall  f1-score   support\n",
            "\n",
            "           0       0.71      0.56      0.63       592\n",
            "           1       0.72      0.71      0.71       599\n",
            "           2       0.61      0.60      0.60      1041\n",
            "           3       0.72      0.74      0.73       619\n",
            "           4       0.62      0.67      0.65       947\n",
            "\n",
            "   micro avg       0.66      0.65      0.66      3798\n",
            "   macro avg       0.68      0.65      0.66      3798\n",
            "weighted avg       0.66      0.65      0.66      3798\n",
            " samples avg       0.65      0.65      0.65      3798\n",
            "\n"
          ]
        }
      ]
    },
    {
      "cell_type": "code",
      "metadata": {
        "colab": {
          "base_uri": "https://localhost:8080/"
        },
        "id": "N5ZzPUBhhCXr",
        "outputId": "a7489123-0218-4cad-d2f6-f28a360b78d9"
      },
      "source": [
        "text = [\"I am so grateful to doctors for curing people from COVID-19\", \"What the hell! ,government staffs didn't do something to help us.\"]\n",
        "text = [clean_text(s) for s in text]\n",
        "\n",
        "lstm_test_1 = tokenizer.texts_to_sequences(text)\n",
        "lstm_test_1 = pad_sequences(lstm_test_1, maxlen= MAX_SEQUENCE_LENGTH)\n",
        "\n",
        "lstm_test_pred_1 = np.round(model.predict(lstm_test_1))\n",
        "for sentence, pred in zip(text, lstm_test_pred_1):\n",
        "  print(f\"{sentence} has sentimental level at {le.classes_[np.argmax(pred)]}\")"
      ],
      "execution_count": null,
      "outputs": [
        {
          "name": "stdout",
          "output_type": "stream",
          "text": [
            "grateful doctors curing people covid19 has sentimental level at Extremely Positive\n",
            "hell government staffs didnt something help us has sentimental level at Negative\n"
          ]
        }
      ]
    },
    {
      "cell_type": "markdown",
      "metadata": {
        "id": "RyBrB4CdE8B-"
      },
      "source": [
        "#### create second model"
      ]
    },
    {
      "cell_type": "code",
      "metadata": {
        "colab": {
          "base_uri": "https://localhost:8080/"
        },
        "id": "_k5U108k30yf",
        "outputId": "05e822e3-0922-4416-e048-935af2eb9098"
      },
      "source": [
        "model_2 = Sequential()\n",
        "model_2.add(Embedding(MAX_NB_WORDS, EMBEDDING_DIM, input_length=X.shape[1]))\n",
        "model_2.add(LSTM(100, dropout=0.2, recurrent_dropout= 0.2, return_sequences=True))\n",
        "model_2.add(GlobalMaxPooling1D())\n",
        "model_2.add(Dense(64, activation= 'relu'))\n",
        "model_2.add(Dropout(0.2))\n",
        "model_2.add(Dense(32, activation= 'relu'))\n",
        "model_2.add(Dense(5, activation='softmax'))\n",
        "\n",
        "model_2.compile(optimizer= 'adam', loss= 'categorical_crossentropy', metrics= ['accuracy'])\n",
        "model_2.summary()"
      ],
      "execution_count": null,
      "outputs": [
        {
          "name": "stdout",
          "output_type": "stream",
          "text": [
            "WARNING:tensorflow:Layer lstm_1 will not use cuDNN kernels since it doesn't meet the criteria. It will use a generic GPU kernel as fallback when running on GPU.\n",
            "Model: \"sequential_1\"\n",
            "_________________________________________________________________\n",
            " Layer (type)                Output Shape              Param #   \n",
            "=================================================================\n",
            " embedding_1 (Embedding)     (None, 250, 128)          6400000   \n",
            "                                                                 \n",
            " lstm_1 (LSTM)               (None, 250, 100)          91600     \n",
            "                                                                 \n",
            " global_max_pooling1d (Globa  (None, 100)              0         \n",
            " lMaxPooling1D)                                                  \n",
            "                                                                 \n",
            " dense_5 (Dense)             (None, 64)                6464      \n",
            "                                                                 \n",
            " dropout (Dropout)           (None, 64)                0         \n",
            "                                                                 \n",
            " dense_6 (Dense)             (None, 32)                2080      \n",
            "                                                                 \n",
            " dense_7 (Dense)             (None, 5)                 165       \n",
            "                                                                 \n",
            "=================================================================\n",
            "Total params: 6,500,309\n",
            "Trainable params: 6,500,309\n",
            "Non-trainable params: 0\n",
            "_________________________________________________________________\n"
          ]
        }
      ]
    },
    {
      "cell_type": "code",
      "metadata": {
        "colab": {
          "background_save": true,
          "base_uri": "https://localhost:8080/"
        },
        "id": "0R2rVlO-2uNG",
        "outputId": "80ebc5f2-e60a-4f0c-fe6a-9cbe666e5b3e"
      },
      "source": [
        "history_2 = model_2.fit(X, train_labels,\n",
        "          epochs=10, \n",
        "          batch_size=64,\n",
        "          validation_split=0.1,\n",
        "          callbacks = [EarlyStopping(monitor= 'val_loss',\n",
        "                                      patience= 3,\n",
        "                                     min_delta= 0.0001)]\n",
        "          ) "
      ],
      "execution_count": null,
      "outputs": [
        {
          "name": "stdout",
          "output_type": "stream",
          "text": [
            "Epoch 1/10\n",
            "579/579 [==============================] - 642s 1s/step - loss: 1.1561 - accuracy: 0.5160 - val_loss: 0.7684 - val_accuracy: 0.7225\n",
            "Epoch 2/10\n",
            "579/579 [==============================] - 653s 1s/step - loss: 0.6651 - accuracy: 0.7636 - val_loss: 0.7022 - val_accuracy: 0.7517\n",
            "Epoch 3/10\n",
            "579/579 [==============================] - 665s 1s/step - loss: 0.4718 - accuracy: 0.8433 - val_loss: 0.7689 - val_accuracy: 0.7396\n",
            "Epoch 4/10\n",
            "579/579 [==============================] - 670s 1s/step - loss: 0.3394 - accuracy: 0.8902 - val_loss: 0.8357 - val_accuracy: 0.7357\n",
            "Epoch 5/10\n",
            "579/579 [==============================] - 663s 1s/step - loss: 0.2489 - accuracy: 0.9204 - val_loss: 0.9823 - val_accuracy: 0.7121\n"
          ]
        }
      ]
    },
    {
      "cell_type": "code",
      "metadata": {
        "colab": {
          "background_save": true
        },
        "id": "MdghZRkGZoAC"
      },
      "source": [
        "model_2.save('lstm_model_2.h5')"
      ],
      "execution_count": null,
      "outputs": []
    },
    {
      "cell_type": "markdown",
      "metadata": {
        "id": "4Ugjl1zeOhE8"
      },
      "source": [
        "#### evaluate second model"
      ]
    },
    {
      "cell_type": "code",
      "metadata": {
        "colab": {
          "base_uri": "https://localhost:8080/"
        },
        "id": "mlNvycXPOnSG",
        "outputId": "cd5f0a2f-b023-4a09-eb3e-caef4c1c939a"
      },
      "source": [
        "#### Evalute GRU Model\n",
        "model_2 = load_model('lstm_model_2.h5')"
      ],
      "execution_count": null,
      "outputs": [
        {
          "name": "stdout",
          "output_type": "stream",
          "text": [
            "WARNING:tensorflow:Layer lstm will not use cuDNN kernels since it doesn't meet the criteria. It will use a generic GPU kernel as fallback when running on GPU.\n"
          ]
        }
      ]
    },
    {
      "cell_type": "code",
      "metadata": {
        "colab": {
          "base_uri": "https://localhost:8080/"
        },
        "id": "P3El6h0_Oynl",
        "outputId": "98943a82-0298-4bef-96e5-0ac8e7fd7a45"
      },
      "source": [
        "model_2.evaluate(X_test, test_labels)"
      ],
      "execution_count": null,
      "outputs": [
        {
          "name": "stdout",
          "output_type": "stream",
          "text": [
            "119/119 [==============================] - 12s 101ms/step - loss: 1.0831 - accuracy: 0.6764\n"
          ]
        },
        {
          "data": {
            "text/plain": [
              "[1.0830916166305542, 0.6764086484909058]"
            ]
          },
          "execution_count": 43,
          "metadata": {},
          "output_type": "execute_result"
        }
      ]
    },
    {
      "cell_type": "code",
      "metadata": {
        "colab": {
          "base_uri": "https://localhost:8080/"
        },
        "id": "c9nz-N5OO332",
        "outputId": "95071f4e-c782-481c-94e4-346e79fb3c0e"
      },
      "source": [
        "# Predict test datset\n",
        "model_pred_2 = np.round(model_2.predict(X_test))\n",
        "model_report_2 = classification_report(test_labels, model_pred_2)\n",
        "print(model_report_2)"
      ],
      "execution_count": null,
      "outputs": [
        {
          "name": "stdout",
          "output_type": "stream",
          "text": [
            "              precision    recall  f1-score   support\n",
            "\n",
            "           0       0.71      0.67      0.69       592\n",
            "           1       0.78      0.66      0.71       599\n",
            "           2       0.64      0.61      0.62      1041\n",
            "           3       0.80      0.71      0.75       619\n",
            "           4       0.62      0.69      0.65       947\n",
            "\n",
            "   micro avg       0.69      0.66      0.67      3798\n",
            "   macro avg       0.71      0.67      0.69      3798\n",
            "weighted avg       0.69      0.66      0.68      3798\n",
            " samples avg       0.66      0.66      0.66      3798\n",
            "\n"
          ]
        },
        {
          "name": "stderr",
          "output_type": "stream",
          "text": [
            "/usr/local/lib/python3.7/dist-packages/sklearn/metrics/_classification.py:1308: UndefinedMetricWarning: Precision and F-score are ill-defined and being set to 0.0 in samples with no predicted labels. Use `zero_division` parameter to control this behavior.\n",
            "  _warn_prf(average, modifier, msg_start, len(result))\n"
          ]
        }
      ]
    },
    {
      "cell_type": "code",
      "metadata": {
        "colab": {
          "base_uri": "https://localhost:8080/"
        },
        "id": "-G6YR1Krhwqn",
        "outputId": "9c89883b-e046-47e4-bf70-d99a49f0717b"
      },
      "source": [
        "text = [\"I am so grateful to doctors for curing people from COVID-19\", \"What the hell! ,government staffs didn't do something to help us.\"]\n",
        "text = [clean_text(s) for s in text]\n",
        "\n",
        "lstm_test_2 = tokenizer.texts_to_sequences(text)\n",
        "lstm_test_2 = pad_sequences(lstm_test_2, maxlen= MAX_SEQUENCE_LENGTH)\n",
        "\n",
        "lstm_test_pred_2 = np.round(model_2.predict(lstm_test_2))\n",
        "for sentence, pred in zip(text, lstm_test_pred_2):\n",
        "  print(f\"{sentence} has sentimental level at {le.classes_[np.argmax(pred)]}\")"
      ],
      "execution_count": null,
      "outputs": [
        {
          "name": "stdout",
          "output_type": "stream",
          "text": [
            "grateful doctors curing people covid19 has sentimental level at Positive\n",
            "hell government staffs didnt something help us has sentimental level at Negative\n"
          ]
        }
      ]
    },
    {
      "cell_type": "code",
      "metadata": {
        "colab": {
          "background_save": true
        },
        "id": "_HxpvNb7Tcox",
        "outputId": "18383c74-1536-4b50-cf63-144835d5e830"
      },
      "source": [
        "fig, (ax1, ax2) = plt.subplots(1, 2,figsize=(12, 4))\n",
        "plt.figure(figsize=(10,3))\n",
        "\n",
        "ax1.set_title('Loss')\n",
        "ax1.plot(history_2.history['loss'], label='train')\n",
        "ax1.plot(history_2.history['val_loss'], label='val')\n",
        "ax1.legend()\n",
        "\n",
        "ax2.set_title(\"Accuracy\")\n",
        "ax2.plot(history_2.history['accuracy'], label='train')\n",
        "ax2.plot(history_2.history['val_accuracy'], label='val')\n",
        "ax2.legend()"
      ],
      "execution_count": null,
      "outputs": [
        {
          "data": {
            "text/plain": [
              "<matplotlib.legend.Legend at 0x7f12e8177490>"
            ]
          },
          "execution_count": null,
          "metadata": {},
          "output_type": "execute_result"
        },
        {
          "data": {
            "image/png": "[encoded data removed]",
            "text/plain": [
              "<Figure size 864x288 with 2 Axes>"
            ]
          },
          "metadata": {},
          "output_type": "display_data"
        },
        {
          "data": {
            "text/plain": [
              "<Figure size 720x216 with 0 Axes>"
            ]
          },
          "metadata": {},
          "output_type": "display_data"
        }
      ]
    },
    {
      "cell_type": "markdown",
      "metadata": {
        "id": "161Za7t5tEya"
      },
      "source": [
        "#### test with new text"
      ]
    },
    {
      "cell_type": "code",
      "metadata": {
        "id": "2fGJy5ldN_NI"
      },
      "source": [
        "model = load_model('lstm_model.h5')\n",
        "model_2 = load_model('lstm_model_2.h5')"
      ],
      "execution_count": null,
      "outputs": []
    },
    {
      "cell_type": "code",
      "metadata": {
        "id": "B2g9q8PAtPjI"
      },
      "source": [
        "text = [\"I am so grateful to doctors for curing people from COVID-19\", \"What the hell! ,government staffs didn't do something to help us.\"]\n",
        "text = [clean_text(s) for s in text]\n",
        "text_sequence = tokenizer.texts_to_sequences(text)\n",
        "text_sequence = pad_sequences(text_sequence, maxlen=MAX_SEQUENCE_LENGTH)\n",
        "print(text_sequence[0], text[0])"
      ],
      "execution_count": null,
      "outputs": []
    },
    {
      "cell_type": "code",
      "metadata": {
        "id": "Fr70cDggPs3N"
      },
      "source": [
        "new_data_pred = model.predict(text_sequence)\n",
        "class_pred = [le.classes_[np.argmax(pred)] for pred in new_data_pred]\n",
        "for sentence, class_pred in zip(text, class_pred):\n",
        "  print(f\"{sentence} has sentimental level at {class_pred}\")"
      ],
      "execution_count": null,
      "outputs": []
    },
    {
      "cell_type": "code",
      "metadata": {
        "id": "iyCIjIewZkku"
      },
      "source": [
        "new_data_pred_2 = model_2.predict(text_sequence)\n",
        "class_pred = [le.classes_[np.argmax(pred)] for pred in new_data_pred]\n",
        "for sentence, class_pred in zip(text, class_pred):\n",
        "  print(f\"{sentence} has sentimental level at {class_pred}\")"
      ],
      "execution_count": null,
      "outputs": []
    },
    {
      "cell_type": "markdown",
      "metadata": {
        "id": "xt351yKw5iVk"
      },
      "source": [
        "### Bidirectional LSTM"
      ]
    },
    {
      "cell_type": "code",
      "metadata": {
        "colab": {
          "background_save": true
        },
        "id": "gkjZ3qId5i7m",
        "outputId": "f8ba9cb3-f059-4026-bc76-35c009b1436a"
      },
      "source": [
        "BLSTM_model = Sequential()\n",
        "BLSTM_model.add(Embedding(TOTAL_WORDS, EMBEDDING_DIM, input_length=X.shape[1]))\n",
        "BLSTM_model.add(Bidirectional(LSTM(64, return_sequences=True, dropout=0.1)))\n",
        "BLSTM_model.add(GlobalMaxPooling1D())\n",
        "BLSTM_model.add(Dropout(0.5))\n",
        "BLSTM_model.add(Dense(5, activation='softmax'))\n",
        "\n",
        "optimizer=Adam(learning_rate=0.00025)\n",
        "BLSTM_model.compile(loss='categorical_crossentropy', optimizer=optimizer, metrics=['accuracy'])\n",
        "BLSTM_model.summary()"
      ],
      "execution_count": null,
      "outputs": [
        {
          "name": "stdout",
          "output_type": "stream",
          "text": [
            "Model: \"sequential_2\"\n",
            "_________________________________________________________________\n",
            " Layer (type)                Output Shape              Param #   \n",
            "=================================================================\n",
            " embedding_2 (Embedding)     (None, 250, 128)          8279680   \n",
            "                                                                 \n",
            " bidirectional (Bidirectiona  (None, 250, 128)         98816     \n",
            " l)                                                              \n",
            "                                                                 \n",
            " global_max_pooling1d_1 (Glo  (None, 128)              0         \n",
            " balMaxPooling1D)                                                \n",
            "                                                                 \n",
            " dropout_1 (Dropout)         (None, 128)               0         \n",
            "                                                                 \n",
            " dense_8 (Dense)             (None, 5)                 645       \n",
            "                                                                 \n",
            "=================================================================\n",
            "Total params: 8,379,141\n",
            "Trainable params: 8,379,141\n",
            "Non-trainable params: 0\n",
            "_________________________________________________________________\n"
          ]
        }
      ]
    },
    {
      "cell_type": "code",
      "metadata": {
        "colab": {
          "background_save": true,
          "base_uri": "https://localhost:8080/"
        },
        "id": "qMrGe95I5vCA",
        "outputId": "db103fa0-5d40-44aa-d73d-045f7d90a314"
      },
      "source": [
        "history_BLSTM = BLSTM_model.fit(X, train_labels,\n",
        "                    epochs=5, \n",
        "                    batch_size=8,\n",
        "                    validation_split=0.1,\n",
        "                    ) \n",
        "BLSTM_model.save('Blstm_model.h5')"
      ],
      "execution_count": null,
      "outputs": [
        {
          "name": "stdout",
          "output_type": "stream",
          "text": [
            "Epoch 1/5\n",
            "4631/4631 [==============================] - 117s 24ms/step - loss: 1.1846 - accuracy: 0.5048 - val_loss: 0.8572 - val_accuracy: 0.6880\n",
            "Epoch 2/5\n",
            "4631/4631 [==============================] - 110s 24ms/step - loss: 0.7369 - accuracy: 0.7375 - val_loss: 0.7618 - val_accuracy: 0.7257\n",
            "Epoch 3/5\n",
            "4631/4631 [==============================] - 110s 24ms/step - loss: 0.5526 - accuracy: 0.8166 - val_loss: 0.7707 - val_accuracy: 0.7189\n",
            "Epoch 4/5\n",
            "4631/4631 [==============================] - 111s 24ms/step - loss: 0.4263 - accuracy: 0.8649 - val_loss: 0.9036 - val_accuracy: 0.6944\n",
            "Epoch 5/5\n",
            "4631/4631 [==============================] - 110s 24ms/step - loss: 0.3318 - accuracy: 0.8979 - val_loss: 0.9683 - val_accuracy: 0.6968\n"
          ]
        }
      ]
    },
    {
      "cell_type": "code",
      "metadata": {
        "colab": {
          "background_save": true
        },
        "id": "ByRDkWWI5vbY",
        "outputId": "628cc3fa-bede-451c-a2f3-ffa16777bde3"
      },
      "source": [
        "fig, (ax1, ax2) = plt.subplots(1, 2,figsize=(12, 4))\n",
        "plt.figure(figsize=(10,3))\n",
        "\n",
        "ax1.set_title('Loss')\n",
        "ax1.plot(history_BLSTM.history['loss'], label='train')\n",
        "ax1.plot(history_BLSTM.history['val_loss'], label='val')\n",
        "ax1.legend()\n",
        "\n",
        "ax2.set_title(\"Accuracy\")\n",
        "ax2.plot(history_BLSTM.history['accuracy'], label='train')\n",
        "ax2.plot(history_BLSTM.history['val_accuracy'], label='val')\n",
        "ax2.legend()"
      ],
      "execution_count": null,
      "outputs": [
        {
          "data": {
            "text/plain": [
              "<matplotlib.legend.Legend at 0x7f12dc49de10>"
            ]
          },
          "execution_count": null,
          "metadata": {},
          "output_type": "execute_result"
        },
        {
          "data": {
            "image/png": "[encoded data removed]",
            "text/plain": [
              "<Figure size 864x288 with 2 Axes>"
            ]
          },
          "metadata": {},
          "output_type": "display_data"
        },
        {
          "data": {
            "text/plain": [
              "<Figure size 720x216 with 0 Axes>"
            ]
          },
          "metadata": {},
          "output_type": "display_data"
        }
      ]
    },
    {
      "cell_type": "markdown",
      "metadata": {
        "id": "6f0i_4b16EQy"
      },
      "source": [
        "#### Evalute Bidirectional LSTM Model"
      ]
    },
    {
      "cell_type": "code",
      "metadata": {
        "colab": {
          "background_save": true
        },
        "id": "Wmlq5pU-6NxE"
      },
      "source": [
        "BLSTM_model = load_model('Blstm_model.h5')"
      ],
      "execution_count": null,
      "outputs": []
    },
    {
      "cell_type": "code",
      "metadata": {
        "colab": {
          "background_save": true
        },
        "id": "LD5pbHfh6AKU",
        "outputId": "e9ecdc27-6169-4f20-933c-e93a4529e09c"
      },
      "source": [
        "BLSTM_model.evaluate(X_test, test_labels)"
      ],
      "execution_count": null,
      "outputs": [
        {
          "name": "stdout",
          "output_type": "stream",
          "text": [
            "119/119 [==============================] - 2s 11ms/step - loss: 1.0889 - accuracy: 0.6688\n"
          ]
        },
        {
          "data": {
            "text/plain": [
              "[1.0888676643371582, 0.6687730550765991]"
            ]
          },
          "execution_count": null,
          "metadata": {},
          "output_type": "execute_result"
        }
      ]
    },
    {
      "cell_type": "code",
      "metadata": {
        "colab": {
          "background_save": true
        },
        "id": "bzzilI5X6L4P",
        "outputId": "40be7da3-ebf7-4624-bc76-ccaf3be15b77"
      },
      "source": [
        "# Predict test datset\n",
        "model_pred = np.round(BLSTM_model.predict(X_test))\n",
        "model_report = classification_report(test_labels, model_pred)"
      ],
      "execution_count": null,
      "outputs": [
        {
          "name": "stderr",
          "output_type": "stream",
          "text": [
            "/usr/local/lib/python3.7/dist-packages/sklearn/metrics/_classification.py:1308: UndefinedMetricWarning: Precision and F-score are ill-defined and being set to 0.0 in samples with no predicted labels. Use `zero_division` parameter to control this behavior.\n",
            "  _warn_prf(average, modifier, msg_start, len(result))\n"
          ]
        }
      ]
    },
    {
      "cell_type": "code",
      "metadata": {
        "colab": {
          "background_save": true
        },
        "id": "XKtccL0j-O8B",
        "outputId": "6bda0c6c-c6ce-4fda-bbec-968224fccb17"
      },
      "source": [
        "print(model_report)"
      ],
      "execution_count": null,
      "outputs": [
        {
          "name": "stdout",
          "output_type": "stream",
          "text": [
            "              precision    recall  f1-score   support\n",
            "\n",
            "           0       0.75      0.60      0.67       592\n",
            "           1       0.81      0.68      0.74       599\n",
            "           2       0.61      0.64      0.62      1041\n",
            "           3       0.75      0.69      0.72       619\n",
            "           4       0.62      0.67      0.65       947\n",
            "\n",
            "   micro avg       0.68      0.66      0.67      3798\n",
            "   macro avg       0.71      0.66      0.68      3798\n",
            "weighted avg       0.69      0.66      0.67      3798\n",
            " samples avg       0.66      0.66      0.66      3798\n",
            "\n"
          ]
        }
      ]
    },
    {
      "cell_type": "markdown",
      "metadata": {
        "id": "Z4CfyR2Rd2ZT"
      },
      "source": [
        "#### Test with new text"
      ]
    },
    {
      "cell_type": "code",
      "metadata": {
        "id": "q1LCD6y1d2ZW"
      },
      "source": [
        "model = load_model('lstm_model.h5')"
      ],
      "execution_count": null,
      "outputs": []
    },
    {
      "cell_type": "code",
      "metadata": {
        "id": "MTycDKuqd2ZW"
      },
      "source": [
        "text = [\"I am so grateful to doctors for curing people from COVID-19\", \"What the hell! ,government staffs didn't do something to help us.\"]\n",
        "text = [clean_text(s) for s in text]\n",
        "text_sequence = tokenizer.texts_to_sequences(text)\n",
        "text_sequence = pad_sequences(text_sequence, maxlen=MAX_SEQUENCE_LENGTH)\n",
        "print(text_sequence[0], text[0])"
      ],
      "execution_count": null,
      "outputs": []
    },
    {
      "cell_type": "code",
      "metadata": {
        "id": "f15h2F8Id2ZW"
      },
      "source": [
        "new_data_pred = model.predict(text_sequence)\n",
        "class_pred = [le.classes_[np.argmax(pred)] for pred in new_data_pred]\n",
        "for sentence, class_pred in zip(text, class_pred):\n",
        "  print(f\"{sentence} has sentimental level at {class_pred}\")"
      ],
      "execution_count": null,
      "outputs": []
    },
    {
      "cell_type": "code",
      "metadata": {
        "id": "VeSicYIYd2ZX"
      },
      "source": [
        "new_data_pred_2 = model_2.predict(text_sequence)\n",
        "class_pred = [le.classes_[np.argmax(pred)] for pred in new_data_pred]\n",
        "for sentence, class_pred in zip(text, class_pred):\n",
        "  print(f\"{sentence} has sentimental level at {class_pred}\")"
      ],
      "execution_count": null,
      "outputs": []
    },
    {
      "cell_type": "markdown",
      "metadata": {
        "id": "i_0yIzWn5jgk"
      },
      "source": [
        "### GRU"
      ]
    },
    {
      "cell_type": "code",
      "metadata": {
        "colab": {
          "background_save": true
        },
        "id": "-0vRg5X-_C6j",
        "outputId": "8ad95d73-1f92-4312-ea8d-9fe33e784940"
      },
      "source": [
        "GRU_model = Sequential()\n",
        "GRU_model.add(Embedding(TOTAL_WORDS, EMBEDDING_DIM, input_length=X.shape[1]))\n",
        "GRU_model.add(GRU(64))\n",
        "GRU_model.add(Dropout(0.5))\n",
        "GRU_model.add(Dense(32, activation='relu', kernel_regularizer='l2'))\n",
        "GRU_model.add(Dense(5, activation='softmax'))\n",
        "\n",
        "optimizer=Adam(learning_rate=0.00025)\n",
        "GRU_model.compile(loss='categorical_crossentropy', optimizer=optimizer, metrics=['accuracy'])\n",
        "GRU_model.summary()"
      ],
      "execution_count": null,
      "outputs": [
        {
          "name": "stdout",
          "output_type": "stream",
          "text": [
            "Model: \"sequential_3\"\n",
            "_________________________________________________________________\n",
            " Layer (type)                Output Shape              Param #   \n",
            "=================================================================\n",
            " embedding_3 (Embedding)     (None, 250, 128)          8279680   \n",
            "                                                                 \n",
            " gru (GRU)                   (None, 64)                37248     \n",
            "                                                                 \n",
            " dropout_2 (Dropout)         (None, 64)                0         \n",
            "                                                                 \n",
            " dense_9 (Dense)             (None, 32)                2080      \n",
            "                                                                 \n",
            " dense_10 (Dense)            (None, 5)                 165       \n",
            "                                                                 \n",
            "=================================================================\n",
            "Total params: 8,319,173\n",
            "Trainable params: 8,319,173\n",
            "Non-trainable params: 0\n",
            "_________________________________________________________________\n"
          ]
        }
      ]
    },
    {
      "cell_type": "code",
      "metadata": {
        "id": "QSf_iI_xAD4Y",
        "colab": {
          "base_uri": "https://localhost:8080/"
        },
        "outputId": "58f494ac-60ca-453e-893e-38129c1fd92c"
      },
      "source": [
        "history_GRU = GRU_model.fit(X, train_labels,\n",
        "                    epochs=3, \n",
        "                    batch_size=8,\n",
        "                    validation_split=0.1,\n",
        "                    ) \n",
        "GRU_model.save('GRU_model.h5')"
      ],
      "execution_count": null,
      "outputs": [
        {
          "output_type": "stream",
          "name": "stdout",
          "text": [
            "Epoch 1/3\n",
            "4631/4631 [==============================] - 64s 13ms/step - loss: 1.3404 - accuracy: 0.4452 - val_loss: 0.9116 - val_accuracy: 0.6662\n",
            "Epoch 2/3\n",
            "4631/4631 [==============================] - 62s 13ms/step - loss: 0.7635 - accuracy: 0.7361 - val_loss: 0.7646 - val_accuracy: 0.7257\n",
            "Epoch 3/3\n",
            "4631/4631 [==============================] - 61s 13ms/step - loss: 0.5632 - accuracy: 0.8210 - val_loss: 0.7886 - val_accuracy: 0.7191\n"
          ]
        }
      ]
    },
    {
      "cell_type": "code",
      "metadata": {
        "id": "5NPn98UBALBm",
        "colab": {
          "base_uri": "https://localhost:8080/"
        },
        "outputId": "6157e032-9f7b-4643-895b-90ba755066a5"
      },
      "source": [
        "fig, (ax1, ax2) = plt.subplots(1, 2,figsize=(12, 4))\n",
        "plt.figure(figsize=(10,3))\n",
        "\n",
        "ax1.set_title('Loss')\n",
        "ax1.plot(history_GRU.history['loss'], label='train')\n",
        "ax1.plot(history_GRU.history['val_loss'], label='val')\n",
        "ax1.legend()\n",
        "\n",
        "ax2.set_title(\"Accuracy\")\n",
        "ax2.plot(history_GRU.history['accuracy'], label='train')\n",
        "ax2.plot(history_GRU.history['val_accuracy'], label='val')\n",
        "ax2.legend()"
      ],
      "execution_count": null,
      "outputs": [
        {
          "output_type": "execute_result",
          "data": {
            "text/plain": [
              "<matplotlib.legend.Legend at 0x7f12c3676c50>"
            ]
          },
          "metadata": {},
          "execution_count": 42
        },
        {
          "output_type": "display_data",
          "data": {
            "image/png": "[encoded data removed]",
            "text/plain": [
              "<Figure size 864x288 with 2 Axes>"
            ]
          },
          "metadata": {
            "needs_background": "light"
          }
        },
        {
          "output_type": "display_data",
          "data": {
            "text/plain": [
              "<Figure size 720x216 with 0 Axes>"
            ]
          },
          "metadata": {}
        }
      ]
    },
    {
      "cell_type": "markdown",
      "metadata": {
        "id": "B2JnJVcJAOZi"
      },
      "source": [
        "#### Evalute GRU Model"
      ]
    },
    {
      "cell_type": "code",
      "metadata": {
        "id": "JBPCjkh6ALOT"
      },
      "source": [
        "GRU_model = load_model('GRU_model.h5')"
      ],
      "execution_count": null,
      "outputs": []
    },
    {
      "cell_type": "code",
      "metadata": {
        "id": "CqsyxatxASj_",
        "colab": {
          "base_uri": "https://localhost:8080/"
        },
        "outputId": "6168ebda-dde7-46f9-8a02-2e362422d558"
      },
      "source": [
        "GRU_model.evaluate(X_test, test_labels)"
      ],
      "execution_count": null,
      "outputs": [
        {
          "output_type": "stream",
          "name": "stdout",
          "text": [
            "119/119 [==============================] - 1s 6ms/step - loss: 0.9066 - accuracy: 0.6890\n"
          ]
        },
        {
          "output_type": "execute_result",
          "data": {
            "text/plain": [
              "[0.9066454768180847, 0.6890468597412109]"
            ]
          },
          "metadata": {},
          "execution_count": 44
        }
      ]
    },
    {
      "cell_type": "code",
      "metadata": {
        "id": "L4ul966vASvt",
        "colab": {
          "base_uri": "https://localhost:8080/"
        },
        "outputId": "57e65c4f-8f53-4068-96fe-15285a617d23"
      },
      "source": [
        "# Predict test datset\n",
        "model_pred = np.round(GRU_model.predict(X_test))\n",
        "model_report = classification_report(test_labels, model_pred)"
      ],
      "execution_count": null,
      "outputs": [
        {
          "output_type": "stream",
          "name": "stderr",
          "text": [
            "/usr/local/lib/python3.7/dist-packages/sklearn/metrics/_classification.py:1308: UndefinedMetricWarning: Precision and F-score are ill-defined and being set to 0.0 in samples with no predicted labels. Use `zero_division` parameter to control this behavior.\n",
            "  _warn_prf(average, modifier, msg_start, len(result))\n"
          ]
        }
      ]
    },
    {
      "cell_type": "code",
      "metadata": {
        "id": "CJDvG-jDAYHs",
        "colab": {
          "base_uri": "https://localhost:8080/"
        },
        "outputId": "544660cd-4e70-4afc-dd41-faac8ed21e9e"
      },
      "source": [
        "print(model_report)"
      ],
      "execution_count": null,
      "outputs": [
        {
          "output_type": "stream",
          "name": "stdout",
          "text": [
            "              precision    recall  f1-score   support\n",
            "\n",
            "           0       0.76      0.60      0.67       592\n",
            "           1       0.86      0.63      0.73       599\n",
            "           2       0.61      0.68      0.65      1041\n",
            "           3       0.84      0.69      0.76       619\n",
            "           4       0.65      0.69      0.67       947\n",
            "\n",
            "   micro avg       0.71      0.66      0.68      3798\n",
            "   macro avg       0.74      0.66      0.69      3798\n",
            "weighted avg       0.72      0.66      0.69      3798\n",
            " samples avg       0.66      0.66      0.66      3798\n",
            "\n"
          ]
        }
      ]
    },
    {
      "cell_type": "markdown",
      "metadata": {
        "id": "iyvdNJ8ZR-Rz"
      },
      "source": [
        "### Logistic Regression"
      ]
    },
    {
      "cell_type": "code",
      "metadata": {
        "id": "mk7GqgdQSBU7"
      },
      "source": [
        "from sklearn.feature_extraction.text import CountVectorizer, TfidfTransformer\n",
        "from sklearn.linear_model import LogisticRegressiona"
      ],
      "execution_count": null,
      "outputs": []
    },
    {
      "cell_type": "code",
      "metadata": {
        "id": "G-9AU9h5SMOg"
      },
      "source": [
        "cv = CountVectorizer()\n",
        "train_vec = cv.fit_transform(train_df['OriginalTweet'])"
      ],
      "execution_count": null,
      "outputs": []
    },
    {
      "cell_type": "code",
      "metadata": {
        "colab": {
          "base_uri": "https://localhost:8080/"
        },
        "id": "dpe9kA8aUrvb",
        "outputId": "8112983b-48b9-463d-bd51-d72d6e631a8c"
      },
      "source": [
        "logistic_model = LogisticRegression()\n",
        "logistic_model.fit(train_vec, train_df['Sentiment'].values)"
      ],
      "execution_count": null,
      "outputs": [
        {
          "name": "stderr",
          "output_type": "stream",
          "text": [
            "/usr/local/lib/python3.7/dist-packages/sklearn/linear_model/_logistic.py:818: ConvergenceWarning: lbfgs failed to converge (status=1):\n",
            "STOP: TOTAL NO. of ITERATIONS REACHED LIMIT.\n",
            "\n",
            "Increase the number of iterations (max_iter) or scale the data as shown in:\n",
            "    https://scikit-learn.org/stable/modules/preprocessing.html\n",
            "Please also refer to the documentation for alternative solver options:\n",
            "    https://scikit-learn.org/stable/modules/linear_model.html#logistic-regression\n",
            "  extra_warning_msg=_LOGISTIC_SOLVER_CONVERGENCE_MSG,\n"
          ]
        },
        {
          "data": {
            "text/plain": [
              "LogisticRegression()"
            ]
          },
          "execution_count": 24,
          "metadata": {},
          "output_type": "execute_result"
        }
      ]
    },
    {
      "cell_type": "code",
      "metadata": {
        "id": "iXGQzECp66Q3"
      },
      "source": [
        "tfidf = TfidfTransformer()\n",
        "tfidf_train_vec = tfidf.fit_transform(train_vec)"
      ],
      "execution_count": null,
      "outputs": []
    },
    {
      "cell_type": "code",
      "metadata": {
        "colab": {
          "base_uri": "https://localhost:8080/"
        },
        "id": "lYyyTqv17Ib3",
        "outputId": "6751e008-f824-4f23-edda-001ae6293d91"
      },
      "source": [
        "logistic_model_tfidf = LogisticRegression()\n",
        "logistic_model_tfidf.fit(tfidf_train_vec,\n",
        "                         train_df['Sentiment'].values)"
      ],
      "execution_count": null,
      "outputs": [
        {
          "name": "stderr",
          "output_type": "stream",
          "text": [
            "/usr/local/lib/python3.7/dist-packages/sklearn/linear_model/_logistic.py:818: ConvergenceWarning: lbfgs failed to converge (status=1):\n",
            "STOP: TOTAL NO. of ITERATIONS REACHED LIMIT.\n",
            "\n",
            "Increase the number of iterations (max_iter) or scale the data as shown in:\n",
            "    https://scikit-learn.org/stable/modules/preprocessing.html\n",
            "Please also refer to the documentation for alternative solver options:\n",
            "    https://scikit-learn.org/stable/modules/linear_model.html#logistic-regression\n",
            "  extra_warning_msg=_LOGISTIC_SOLVER_CONVERGENCE_MSG,\n"
          ]
        },
        {
          "data": {
            "text/plain": [
              "LogisticRegression()"
            ]
          },
          "execution_count": 25,
          "metadata": {},
          "output_type": "execute_result"
        }
      ]
    },
    {
      "cell_type": "markdown",
      "metadata": {
        "id": "f4HxYVl_XpRu"
      },
      "source": [
        "#### test logistic regression model"
      ]
    },
    {
      "cell_type": "code",
      "metadata": {
        "id": "HyHDcmOb-hUt"
      },
      "source": [
        "test_vec = cv.transform(test_df['OriginalTweet'])\n",
        "tfidf_test_vec = tfidf.fit_transform(test_vec)"
      ],
      "execution_count": null,
      "outputs": []
    },
    {
      "cell_type": "code",
      "metadata": {
        "colab": {
          "base_uri": "https://localhost:8080/"
        },
        "id": "6emmEgDoXYdp",
        "outputId": "b8b1bd35-4e7d-493a-e23d-b853e4b1bfc3"
      },
      "source": [
        "test_predictions = logistic_model.predict(test_vec)\n",
        "print(classification_report(test_predictions, test_df['Sentiment'].values))"
      ],
      "execution_count": null,
      "outputs": [
        {
          "name": "stdout",
          "output_type": "stream",
          "text": [
            "              precision    recall  f1-score   support\n",
            "\n",
            "           0       0.52      0.64      0.57       484\n",
            "           1       0.61      0.71      0.65       511\n",
            "           2       0.53      0.52      0.53      1068\n",
            "           3       0.68      0.62      0.65       679\n",
            "           4       0.61      0.55      0.58      1056\n",
            "\n",
            "    accuracy                           0.59      3798\n",
            "   macro avg       0.59      0.61      0.60      3798\n",
            "weighted avg       0.59      0.59      0.59      3798\n",
            "\n"
          ]
        }
      ]
    },
    {
      "cell_type": "code",
      "metadata": {
        "colab": {
          "base_uri": "https://localhost:8080/"
        },
        "id": "MIgPDgCL-c-c",
        "outputId": "0bf4386e-f875-4747-ab3b-baba5b988bf2"
      },
      "source": [
        "test_predictions = logistic_model_tfidf.predict(test_vec)\n",
        "print(classification_report(test_predictions, test_df['Sentiment'].values))"
      ],
      "execution_count": null,
      "outputs": [
        {
          "name": "stdout",
          "output_type": "stream",
          "text": [
            "              precision    recall  f1-score   support\n",
            "\n",
            "           0       0.65      0.47      0.55       827\n",
            "           1       0.69      0.55      0.61       752\n",
            "           2       0.29      0.51      0.37       588\n",
            "           3       0.71      0.52      0.60       856\n",
            "           4       0.42      0.51      0.46       775\n",
            "\n",
            "    accuracy                           0.51      3798\n",
            "   macro avg       0.55      0.51      0.52      3798\n",
            "weighted avg       0.57      0.51      0.53      3798\n",
            "\n"
          ]
        }
      ]
    },
    {
      "cell_type": "code",
      "metadata": {
        "id": "2NTbbjtdYJd7"
      },
      "source": [
        "text = [\"I am so grateful to doctors for curing people from COVID-19\", \"What the hell! ,government staffs didn't do something to help us.\"]\n",
        "text = [clean_text(s) for s in text]\n",
        "text_vec = cv.transform(text)\n",
        "text_pred = logistic_model.predict(text_vec)"
      ],
      "execution_count": null,
      "outputs": []
    },
    {
      "cell_type": "code",
      "metadata": {
        "colab": {
          "base_uri": "https://localhost:8080/"
        },
        "id": "B2LLHakgYnA4",
        "outputId": "66bc26c8-ec3d-4b44-b00f-331e4f742266"
      },
      "source": [
        "for sentence, pred in zip(text, text_pred):\n",
        "  print(f\"{sentence} has sentimental level at {le.classes_[pred]}\")"
      ],
      "execution_count": null,
      "outputs": [
        {
          "name": "stdout",
          "output_type": "stream",
          "text": [
            "grateful doctors curing people covid19 has sentimental level at Extremely Positive\n",
            "hell government staffs didnt something help us has sentimental level at Negative\n"
          ]
        }
      ]
    },
    {
      "cell_type": "code",
      "metadata": {
        "colab": {
          "base_uri": "https://localhost:8080/"
        },
        "id": "b4Jf71xT8Nwp",
        "outputId": "22c176d4-13f3-44d9-e0a4-93e709643bed"
      },
      "source": [
        "text_tfidf_pred = logistic_model_tfidf.predict(text_vec)\n",
        "for sentence, pred in zip(text, text_tfidf_pred):\n",
        "  print(f\"{sentence} has sentimental level at {le.classes_[pred]}\")"
      ],
      "execution_count": null,
      "outputs": [
        {
          "name": "stdout",
          "output_type": "stream",
          "text": [
            "grateful doctors curing people covid19 has sentimental level at Extremely Positive\n",
            "hell government staffs didnt something help us has sentimental level at Extremely Positive\n"
          ]
        }
      ]
    },
    {
      "cell_type": "markdown",
      "metadata": {
        "id": "aMWoquyU9nF3"
      },
      "source": [
        "### KMeans"
      ]
    },
    {
      "cell_type": "code",
      "metadata": {
        "id": "JMUerRko9qOt"
      },
      "source": [
        "from sklearn.cluster import KMeans\n",
        "from sklearn.feature_extraction.text import TfidfVectorizer"
      ],
      "execution_count": null,
      "outputs": []
    },
    {
      "cell_type": "code",
      "metadata": {
        "id": "jgL0rxEu96-F"
      },
      "source": [
        "vectorizer = TfidfVectorizer(max_df=0.5, max_features=2000,\n",
        "                                 min_df=2, stop_words='english',\n",
        "                                 use_idf=True)\n",
        "X = vectorizer.fit_transform(train_df['OriginalTweet'])"
      ],
      "execution_count": null,
      "outputs": []
    },
    {
      "cell_type": "code",
      "metadata": {
        "colab": {
          "base_uri": "https://localhost:8080/"
        },
        "id": "zM1rbuLY9xJw",
        "outputId": "88fae621-8960-4a9e-c9c6-0b41088d1699"
      },
      "source": [
        "km = KMeans(n_clusters=5, max_iter=100, n_init=55)\n",
        "km.fit(X)"
      ],
      "execution_count": null,
      "outputs": [
        {
          "data": {
            "text/plain": [
              "KMeans(max_iter=100, n_clusters=5, n_init=55)"
            ]
          },
          "execution_count": 28,
          "metadata": {},
          "output_type": "execute_result"
        }
      ]
    },
    {
      "cell_type": "code",
      "metadata": {
        "id": "3LvjM8g99xSA"
      },
      "source": [
        "order_centroids = km.cluster_centers_.argsort()[:, ::-1]"
      ],
      "execution_count": null,
      "outputs": []
    },
    {
      "cell_type": "code",
      "metadata": {
        "colab": {
          "base_uri": "https://localhost:8080/"
        },
        "id": "TOLjxD1d_K6P",
        "outputId": "6df96cbb-7abf-4820-84a1-6e50ae5e3d4c"
      },
      "source": [
        "terms = vectorizer.get_feature_names()\n",
        "for i in range(5):\n",
        "    print(\"Cluster %d:\" % i, end='')\n",
        "    for ind in order_centroids[i, :30]:\n",
        "        print(' %s' % terms[ind], end='')\n",
        "    print()"
      ],
      "execution_count": null,
      "outputs": [
        {
          "name": "stdout",
          "output_type": "stream",
          "text": [
            "Cluster 0: supermarket food coronavirus people panic covid19 stock buying need shelves amp demand covid_19 19 workers covid like buy local going staff dont covid2019 time stop home work help delivery im\n",
            "Cluster 1: prices covid19 consumer coronavirus oil amp pandemic 19 covid crisis price impact demand new gas market help time covid_19 people business outbreak global economy low amid consumers home retail companies\n",
            "Cluster 2: store grocery coronavirus workers covid19 people retail covid_19 employees going like work amp socialdistancing stores covid2019 thank pandemic time im need dont 19 home line working today essential food local\n",
            "Cluster 3: sanitizer toiletpaper coronavirus hand toilet paper covid19 hands use corona covid_19 soap quarantine masks toiletpapercrisis tp handsanitizer amp people make pandemic toiletpaperpanic alcohol need virus like wash making coronaviruspandemic stayhome\n",
            "Cluster 4: online shopping covid19 coronavirus delivery 19 home covid grocery amp people amazon shop new ecommerce pandemic stores time help stay im safe need order covid_19 support like going food onlineshopping\n"
          ]
        },
        {
          "name": "stderr",
          "output_type": "stream",
          "text": [
            "/usr/local/lib/python3.7/dist-packages/sklearn/utils/deprecation.py:87: FutureWarning: Function get_feature_names is deprecated; get_feature_names is deprecated in 1.0 and will be removed in 1.2. Please use get_feature_names_out instead.\n",
            "  warnings.warn(msg, category=FutureWarning)\n"
          ]
        }
      ]
    },
    {
      "cell_type": "markdown",
      "metadata": {
        "id": "YuM9-vwLmd-H"
      },
      "source": [
        "### NaiveBayes"
      ]
    },
    {
      "cell_type": "markdown",
      "metadata": {
        "id": "f6OL-gLhLUWG"
      },
      "source": [
        "TF-IDF"
      ]
    },
    {
      "cell_type": "code",
      "metadata": {
        "id": "jfHoIeRiAZhx"
      },
      "source": [
        "from sklearn.feature_extraction.text import TfidfVectorizer\n",
        "tfidf = TfidfVectorizer(stop_words=None)\n",
        "X_train_tfidf = tfidf.fit_transform(train_df['OriginalTweet'] )\n",
        "X_test_tfidf = tfidf.transform(test_df[\"OriginalTweet\"])"
      ],
      "execution_count": null,
      "outputs": []
    },
    {
      "cell_type": "code",
      "metadata": {
        "id": "LwL0bI_4l0IO",
        "colab": {
          "base_uri": "https://localhost:8080/"
        },
        "outputId": "f47c092b-58f9-41f0-b383-ddbfb060a76e"
      },
      "source": [
        "from sklearn.naive_bayes import MultinomialNB\n",
        "naive_bayes_tfidf = MultinomialNB()\n",
        "naive_bayes_tfidf.fit(X_train_tfidf, train_df['Sentiment'].values)"
      ],
      "execution_count": null,
      "outputs": [
        {
          "output_type": "execute_result",
          "data": {
            "text/plain": [
              "MultinomialNB()"
            ]
          },
          "metadata": {},
          "execution_count": 22
        }
      ]
    },
    {
      "cell_type": "code",
      "metadata": {
        "id": "yQPksy4-nmC5"
      },
      "source": [
        ""
      ],
      "execution_count": null,
      "outputs": []
    },
    {
      "cell_type": "markdown",
      "metadata": {
        "id": "DLo8mmY4JD0G"
      },
      "source": [
        "CountVectorizer"
      ]
    },
    {
      "cell_type": "code",
      "metadata": {
        "id": "zJAHrrErJLu3"
      },
      "source": [
        "cv = CountVectorizer()\n",
        "X_train_cv = cv.fit_transform(train_df['OriginalTweet'] )\n",
        "X_test_cv = cv.transform(test_df[\"OriginalTweet\"])"
      ],
      "execution_count": null,
      "outputs": []
    },
    {
      "cell_type": "code",
      "metadata": {
        "colab": {
          "base_uri": "https://localhost:8080/"
        },
        "id": "fAnPIG79JuYP",
        "outputId": "1ec180fa-ef7a-44bf-d0ea-48647b7a47bc"
      },
      "source": [
        "naive_bayes_cv = MultinomialNB()\n",
        "naive_bayes_cv.fit(X_train_cv, train_df['Sentiment'].values)"
      ],
      "execution_count": null,
      "outputs": [
        {
          "output_type": "execute_result",
          "data": {
            "text/plain": [
              "MultinomialNB()"
            ]
          },
          "metadata": {},
          "execution_count": 29
        }
      ]
    },
    {
      "cell_type": "code",
      "metadata": {
        "id": "7OzoxY_vK4eQ"
      },
      "source": [
        "nb_cv_predict = naive_bayes_cv.predict(X_test_cv)"
      ],
      "execution_count": null,
      "outputs": []
    },
    {
      "cell_type": "markdown",
      "metadata": {
        "id": "mq1y9hDjLXk0"
      },
      "source": [
        "### Test Naive Bayes"
      ]
    },
    {
      "cell_type": "code",
      "metadata": {
        "colab": {
          "base_uri": "https://localhost:8080/"
        },
        "id": "2aGBhMpVLloU",
        "outputId": "ef21a62a-eccf-4de7-ac9d-cfc6c6a9be9b"
      },
      "source": [
        "nb_tfidf_predict = naive_bayes_tfidf.predict(X_test_tfidf)\n",
        "print(classification_report(nb_tfidf_predict, test_df['Sentiment'].values))"
      ],
      "execution_count": null,
      "outputs": [
        {
          "output_type": "stream",
          "name": "stdout",
          "text": [
            "              precision    recall  f1-score   support\n",
            "\n",
            "           0       0.01      0.75      0.01         4\n",
            "           1       0.03      1.00      0.05        16\n",
            "           2       0.39      0.39      0.39      1030\n",
            "           3       0.06      0.83      0.11        42\n",
            "           4       0.91      0.32      0.47      2706\n",
            "\n",
            "    accuracy                           0.35      3798\n",
            "   macro avg       0.28      0.66      0.21      3798\n",
            "weighted avg       0.75      0.35      0.44      3798\n",
            "\n"
          ]
        }
      ]
    },
    {
      "cell_type": "code",
      "metadata": {
        "colab": {
          "base_uri": "https://localhost:8080/"
        },
        "id": "qDUkBvjrL9Mw",
        "outputId": "8a77911c-53b6-416b-d76a-d441215c1930"
      },
      "source": [
        "nb_cv_predict = naive_bayes_cv.predict(X_test_cv)\n",
        "print(classification_report(nb_cv_predict, test_df['Sentiment'].values))"
      ],
      "execution_count": null,
      "outputs": [
        {
          "output_type": "stream",
          "name": "stdout",
          "text": [
            "              precision    recall  f1-score   support\n",
            "\n",
            "           0       0.22      0.61      0.33       217\n",
            "           1       0.28      0.70      0.40       238\n",
            "           2       0.56      0.42      0.48      1369\n",
            "           3       0.22      0.65      0.33       207\n",
            "           4       0.69      0.37      0.48      1767\n",
            "\n",
            "    accuracy                           0.44      3798\n",
            "   macro avg       0.39      0.55      0.40      3798\n",
            "weighted avg       0.57      0.44      0.46      3798\n",
            "\n"
          ]
        }
      ]
    },
    {
      "cell_type": "code",
      "metadata": {
        "id": "foPHYTUiMlHp"
      },
      "source": [
        "text = [\"I am so grateful to doctors for curing people from COVID-19\", \"What the hell! ,government staffs didn't do something to help us.\"]\n",
        "text = [clean_text(s) for s in text]\n",
        "text_vec = tfidf.transform(text)\n",
        "text_tfidf_pred = naive_bayes_tfidf.predict(text_vec)"
      ],
      "execution_count": null,
      "outputs": []
    },
    {
      "cell_type": "code",
      "metadata": {
        "colab": {
          "base_uri": "https://localhost:8080/"
        },
        "id": "DTwE0jTZMt0_",
        "outputId": "b5691678-1c1e-4f42-a068-38aca49e24c9"
      },
      "source": [
        "for sentence, pred in zip(text, text_tfidf_pred):\n",
        "  print(f\"{sentence} has sentimental level at {le.classes_[pred]}\")"
      ],
      "execution_count": null,
      "outputs": [
        {
          "output_type": "stream",
          "name": "stdout",
          "text": [
            "grateful doctors curing people covid19 has sentimental level at Extremely Positive\n",
            "hell government staffs didnt something help us has sentimental level at Positive\n"
          ]
        }
      ]
    },
    {
      "cell_type": "code",
      "metadata": {
        "colab": {
          "base_uri": "https://localhost:8080/"
        },
        "id": "IkkCsFpjM5iG",
        "outputId": "0d861351-9952-4671-8c1b-30416dd5776e"
      },
      "source": [
        "text_cv_pred = naive_bayes_cv.predict(text_vec)\n",
        "for sentence, pred in zip(text, text_cv_pred):\n",
        "  print(f\"{sentence} has sentimental level at {le.classes_[pred]}\")"
      ],
      "execution_count": null,
      "outputs": [
        {
          "output_type": "stream",
          "name": "stdout",
          "text": [
            "grateful doctors curing people covid19 has sentimental level at Extremely Positive\n",
            "hell government staffs didnt something help us has sentimental level at Extremely Positive\n"
          ]
        }
      ]
    },
    {
      "cell_type": "code",
      "metadata": {
        "id": "wzCuk__hPWWd"
      },
      "source": [
        ""
      ],
      "execution_count": null,
      "outputs": []
    }
  ]
}